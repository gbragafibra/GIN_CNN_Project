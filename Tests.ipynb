{
 "cells": [
  {
   "cell_type": "code",
   "execution_count": 1,
   "id": "4c300859-6ab3-4443-a0fb-9fe4eebc1116",
   "metadata": {},
   "outputs": [],
   "source": [
    "import numpy as np\n",
    "import pandas as pd\n",
    "from rdkit import Chem\n",
    "from rdkit.Chem import AllChem, Draw\n",
    "import torch\n",
    "from torch_geometric.data import Data"
   ]
  },
  {
   "cell_type": "code",
   "execution_count": 2,
   "id": "f40c8fa5-09a2-4157-918e-92a6b022dfdf",
   "metadata": {},
   "outputs": [
    {
     "data": {
      "text/plain": [
       "(1427, 28)"
      ]
     },
     "execution_count": 2,
     "metadata": {},
     "output_type": "execute_result"
    }
   ],
   "source": [
    "df = pd.read_csv(\"data/sider.csv\")\n",
    "df.columns\n",
    "df.head()\n",
    "df.shape"
   ]
  },
  {
   "cell_type": "code",
   "execution_count": 3,
   "id": "863b8193-9081-48b9-8ff8-a8ae3c730a47",
   "metadata": {},
   "outputs": [
    {
     "data": {
      "image/png": "[encoded data removed]",
      "text/plain": [
       "<rdkit.Chem.rdchem.Mol at 0x7fc337fc7610>"
      ]
     },
     "execution_count": 3,
     "metadata": {},
     "output_type": "execute_result"
    }
   ],
   "source": [
    "smi = df[\"smiles\"][500]\n",
    "mol = Chem.MolFromSmiles(smi)\n",
    "mol"
   ]
  },
  {
   "cell_type": "code",
   "execution_count": 4,
   "id": "cb177ff9-6f9a-42fc-8f66-a4b2c8fcc6ab",
   "metadata": {},
   "outputs": [],
   "source": [
    "edges = []\n",
    "for bond in mol.GetBonds():\n",
    "    i = bond.GetBeginAtomIdx()\n",
    "    j = bond.GetEndAtomIdx()\n",
    "    edges.extend([(i,j), (j,i)])\n",
    "edge_index = list(zip(*edges))"
   ]
  },
  {
   "cell_type": "code",
   "execution_count": 5,
   "id": "6b8e41bc-c633-49e1-9897-5ce17995f0ce",
   "metadata": {},
   "outputs": [],
   "source": [
    "# Atomic number and chirality for atoms\n",
    "# Bond type and bond direction for bonds\n",
    "def atom_feature(atom):\n",
    "    return [atom.GetAtomicNum(),\n",
    "           atom.GetChiralTag()]\n",
    "def bond_feature(bond):\n",
    "    return [bond.GetBondType(),\n",
    "           bond.GetBondDir()]"
   ]
  },
  {
   "cell_type": "code",
   "execution_count": 6,
   "id": "b7056ab5-ae0e-4cc6-baff-2c497ce69540",
   "metadata": {},
   "outputs": [],
   "source": [
    "node_features = [atom_feature(a) for a in mol.GetAtoms()]\n",
    "edge_features = [bond_feature(b) for b in mol.GetBonds()]"
   ]
  },
  {
   "cell_type": "code",
   "execution_count": 7,
   "id": "5e9af72d-a63a-4ea7-8e4d-b50884c851e9",
   "metadata": {},
   "outputs": [],
   "source": [
    "g = Data(edge_index=torch.LongTensor(edge_index),\n",
    "         x=torch.FloatTensor(node_features),\n",
    "         edge_attr=torch.FloatTensor(edge_features),\n",
    "         smiles=smi,\n",
    "         mol=mol)"
   ]
  },
  {
   "cell_type": "code",
   "execution_count": 8,
   "id": "fde1f98d-2602-48ff-bf36-c4594c3cd9a6",
   "metadata": {},
   "outputs": [
    {
     "data": {
      "text/plain": [
       "tensor([[6., 0.],\n",
       "        [6., 0.],\n",
       "        [6., 0.],\n",
       "        [8., 0.],\n",
       "        [7., 0.],\n",
       "        [6., 0.],\n",
       "        [6., 0.],\n",
       "        [8., 0.],\n",
       "        [7., 0.],\n",
       "        [6., 0.],\n",
       "        [6., 0.],\n",
       "        [6., 0.],\n",
       "        [6., 0.],\n",
       "        [6., 0.],\n",
       "        [8., 0.],\n",
       "        [8., 0.],\n",
       "        [6., 0.],\n",
       "        [6., 0.],\n",
       "        [6., 0.],\n",
       "        [6., 0.],\n",
       "        [6., 0.],\n",
       "        [6., 0.],\n",
       "        [6., 0.],\n",
       "        [7., 0.],\n",
       "        [6., 0.],\n",
       "        [8., 0.],\n",
       "        [6., 0.],\n",
       "        [6., 0.],\n",
       "        [6., 0.],\n",
       "        [6., 0.],\n",
       "        [6., 0.],\n",
       "        [6., 0.],\n",
       "        [6., 0.],\n",
       "        [7., 0.],\n",
       "        [6., 0.],\n",
       "        [6., 0.],\n",
       "        [6., 0.],\n",
       "        [6., 0.],\n",
       "        [6., 0.],\n",
       "        [6., 0.],\n",
       "        [7., 0.],\n",
       "        [6., 0.],\n",
       "        [6., 0.]])"
      ]
     },
     "execution_count": 8,
     "metadata": {},
     "output_type": "execute_result"
    }
   ],
   "source": [
    "g.x"
   ]
  },
  {
   "cell_type": "code",
   "execution_count": 9,
   "id": "98c57514-38bf-407b-b527-3fd95409cca0",
   "metadata": {},
   "outputs": [
    {
     "data": {
      "text/plain": [
       "tensor([[ 1.,  0.],\n",
       "        [ 1.,  0.],\n",
       "        [ 2.,  0.],\n",
       "        [ 1.,  0.],\n",
       "        [ 1.,  0.],\n",
       "        [ 1.,  0.],\n",
       "        [ 2.,  0.],\n",
       "        [ 1.,  0.],\n",
       "        [ 1.,  0.],\n",
       "        [ 1.,  0.],\n",
       "        [ 1.,  0.],\n",
       "        [ 1.,  0.],\n",
       "        [ 1.,  0.],\n",
       "        [ 1.,  0.],\n",
       "        [ 1.,  0.],\n",
       "        [ 1.,  0.],\n",
       "        [ 1.,  0.],\n",
       "        [12.,  0.],\n",
       "        [12.,  0.],\n",
       "        [12.,  0.],\n",
       "        [12.,  0.],\n",
       "        [12.,  0.],\n",
       "        [ 1.,  0.],\n",
       "        [ 1.,  0.],\n",
       "        [ 2.,  0.],\n",
       "        [ 1.,  0.],\n",
       "        [ 1.,  0.],\n",
       "        [ 1.,  0.],\n",
       "        [ 1.,  0.],\n",
       "        [ 1.,  0.],\n",
       "        [ 1.,  0.],\n",
       "        [12.,  0.],\n",
       "        [12.,  0.],\n",
       "        [12.,  0.],\n",
       "        [12.,  0.],\n",
       "        [12.,  0.],\n",
       "        [12.,  0.],\n",
       "        [12.,  0.],\n",
       "        [12.,  0.],\n",
       "        [ 1.,  0.],\n",
       "        [ 1.,  0.],\n",
       "        [ 1.,  0.],\n",
       "        [ 1.,  0.],\n",
       "        [ 1.,  0.],\n",
       "        [ 1.,  0.],\n",
       "        [12.,  0.],\n",
       "        [ 1.,  0.],\n",
       "        [ 1.,  0.],\n",
       "        [12.,  0.],\n",
       "        [12.,  0.]])"
      ]
     },
     "execution_count": 9,
     "metadata": {},
     "output_type": "execute_result"
    }
   ],
   "source": [
    "g.edge_attr"
   ]
  },
  {
   "cell_type": "code",
   "execution_count": 10,
   "id": "499c2f0b-487d-48fa-9743-3fa74db8c093",
   "metadata": {},
   "outputs": [
    {
     "name": "stdout",
     "output_type": "stream",
     "text": [
      "43\n",
      "50\n",
      "tensor([[ 0,  1,  1,  2,  2,  3,  2,  4,  4,  5,  5,  6,  6,  7,  6,  8,  8,  9,\n",
      "          9, 10, 10, 11, 11, 12, 12, 13, 13, 14, 13, 15,  5, 16, 16, 17, 17, 18,\n",
      "         18, 19, 19, 20, 20, 21, 21, 22,  1, 23, 23, 24, 24, 25, 24, 26, 26, 27,\n",
      "         27, 28, 28, 29, 29, 30, 30, 31, 31, 32, 32, 33, 33, 34, 34, 35, 35, 36,\n",
      "         36, 37, 37, 38, 38, 39, 29, 40, 40, 41, 40, 42, 14,  1, 13,  4, 12,  8,\n",
      "         22, 17, 41, 26, 38, 28, 39, 31, 39, 34],\n",
      "        [ 1,  0,  2,  1,  3,  2,  4,  2,  5,  4,  6,  5,  7,  6,  8,  6,  9,  8,\n",
      "         10,  9, 11, 10, 12, 11, 13, 12, 14, 13, 15, 13, 16,  5, 17, 16, 18, 17,\n",
      "         19, 18, 20, 19, 21, 20, 22, 21, 23,  1, 24, 23, 25, 24, 26, 24, 27, 26,\n",
      "         28, 27, 29, 28, 30, 29, 31, 30, 32, 31, 33, 32, 34, 33, 35, 34, 36, 35,\n",
      "         37, 36, 38, 37, 39, 38, 40, 29, 41, 40, 42, 40,  1, 14,  4, 13,  8, 12,\n",
      "         17, 22, 26, 41, 28, 38, 31, 39, 34, 39]])\n",
      "torch.Size([2, 100])\n"
     ]
    }
   ],
   "source": [
    "print(len(g.x))\n",
    "print(len(g.edge_attr))\n",
    "print(g.edge_index)\n",
    "# The first row of the tensor contains the origin of the bond, and second the target\n",
    "print(g.edge_index.shape)"
   ]
  },
  {
   "cell_type": "code",
   "execution_count": 11,
   "id": "dc7f3cb4-0259-4ee0-a641-726aa1931594",
   "metadata": {},
   "outputs": [
    {
     "name": "stdout",
     "output_type": "stream",
     "text": [
      "[[ 1.  0.]\n",
      " [ 1.  0.]\n",
      " [ 1.  0.]\n",
      " [ 1.  0.]\n",
      " [ 2.  0.]\n",
      " [ 2.  0.]\n",
      " [ 1.  0.]\n",
      " [ 1.  0.]\n",
      " [ 1.  0.]\n",
      " [ 1.  0.]\n",
      " [ 1.  0.]\n",
      " [ 1.  0.]\n",
      " [ 2.  0.]\n",
      " [ 2.  0.]\n",
      " [ 1.  0.]\n",
      " [ 1.  0.]\n",
      " [ 1.  0.]\n",
      " [ 1.  0.]\n",
      " [ 1.  0.]\n",
      " [ 1.  0.]\n",
      " [ 1.  0.]\n",
      " [ 1.  0.]\n",
      " [ 1.  0.]\n",
      " [ 1.  0.]\n",
      " [ 1.  0.]\n",
      " [ 1.  0.]\n",
      " [ 1.  0.]\n",
      " [ 1.  0.]\n",
      " [ 1.  0.]\n",
      " [ 1.  0.]\n",
      " [ 1.  0.]\n",
      " [ 1.  0.]\n",
      " [ 1.  0.]\n",
      " [ 1.  0.]\n",
      " [12.  0.]\n",
      " [12.  0.]\n",
      " [12.  0.]\n",
      " [12.  0.]\n",
      " [12.  0.]\n",
      " [12.  0.]\n",
      " [12.  0.]\n",
      " [12.  0.]\n",
      " [12.  0.]\n",
      " [12.  0.]\n",
      " [ 1.  0.]\n",
      " [ 1.  0.]\n",
      " [ 1.  0.]\n",
      " [ 1.  0.]\n",
      " [ 2.  0.]\n",
      " [ 2.  0.]\n",
      " [ 1.  0.]\n",
      " [ 1.  0.]\n",
      " [ 1.  0.]\n",
      " [ 1.  0.]\n",
      " [ 1.  0.]\n",
      " [ 1.  0.]\n",
      " [ 1.  0.]\n",
      " [ 1.  0.]\n",
      " [ 1.  0.]\n",
      " [ 1.  0.]\n",
      " [ 1.  0.]\n",
      " [ 1.  0.]\n",
      " [12.  0.]\n",
      " [12.  0.]\n",
      " [12.  0.]\n",
      " [12.  0.]\n",
      " [12.  0.]\n",
      " [12.  0.]\n",
      " [12.  0.]\n",
      " [12.  0.]\n",
      " [12.  0.]\n",
      " [12.  0.]\n",
      " [12.  0.]\n",
      " [12.  0.]\n",
      " [12.  0.]\n",
      " [12.  0.]\n",
      " [12.  0.]\n",
      " [12.  0.]\n",
      " [ 1.  0.]\n",
      " [ 1.  0.]\n",
      " [ 1.  0.]\n",
      " [ 1.  0.]\n",
      " [ 1.  0.]\n",
      " [ 1.  0.]\n",
      " [ 1.  0.]\n",
      " [ 1.  0.]\n",
      " [ 1.  0.]\n",
      " [ 1.  0.]\n",
      " [ 1.  0.]\n",
      " [ 1.  0.]\n",
      " [12.  0.]\n",
      " [12.  0.]\n",
      " [ 1.  0.]\n",
      " [ 1.  0.]\n",
      " [ 1.  0.]\n",
      " [ 1.  0.]\n",
      " [12.  0.]\n",
      " [12.  0.]\n",
      " [12.  0.]\n",
      " [12.  0.]]\n",
      "[[6.]\n",
      " [6.]\n",
      " [6.]\n",
      " [8.]\n",
      " [7.]\n",
      " [6.]\n",
      " [6.]\n",
      " [8.]\n",
      " [7.]\n",
      " [6.]\n",
      " [6.]\n",
      " [6.]\n",
      " [6.]\n",
      " [6.]\n",
      " [8.]\n",
      " [8.]\n",
      " [6.]\n",
      " [6.]\n",
      " [6.]\n",
      " [6.]\n",
      " [6.]\n",
      " [6.]\n",
      " [6.]\n",
      " [7.]\n",
      " [6.]\n",
      " [8.]\n",
      " [6.]\n",
      " [6.]\n",
      " [6.]\n",
      " [6.]\n",
      " [6.]\n",
      " [6.]\n",
      " [6.]\n",
      " [7.]\n",
      " [6.]\n",
      " [6.]\n",
      " [6.]\n",
      " [6.]\n",
      " [6.]\n",
      " [6.]\n",
      " [7.]\n",
      " [6.]\n",
      " [6.]]\n",
      "[[ 0.  1.  1.  2.  2.  3.  2.  4.  4.  5.  5.  6.  6.  7.  6.  8.  8.  9.\n",
      "   9. 10. 10. 11. 11. 12. 12. 13. 13. 14. 13. 15.  5. 16. 16. 17. 17. 18.\n",
      "  18. 19. 19. 20. 20. 21. 21. 22.  1. 23. 23. 24. 24. 25. 24. 26. 26. 27.\n",
      "  27. 28. 28. 29. 29. 30. 30. 31. 31. 32. 32. 33. 33. 34. 34. 35. 35. 36.\n",
      "  36. 37. 37. 38. 38. 39. 29. 40. 40. 41. 40. 42. 14.  1. 13.  4. 12.  8.\n",
      "  22. 17. 41. 26. 38. 28. 39. 31. 39. 34.]\n",
      " [ 1.  0.  2.  1.  3.  2.  4.  2.  5.  4.  6.  5.  7.  6.  8.  6.  9.  8.\n",
      "  10.  9. 11. 10. 12. 11. 13. 12. 14. 13. 15. 13. 16.  5. 17. 16. 18. 17.\n",
      "  19. 18. 20. 19. 21. 20. 22. 21. 23.  1. 24. 23. 25. 24. 26. 24. 27. 26.\n",
      "  28. 27. 29. 28. 30. 29. 31. 30. 32. 31. 33. 32. 34. 33. 35. 34. 36. 35.\n",
      "  37. 36. 38. 37. 39. 38. 40. 29. 41. 40. 42. 40.  1. 14.  4. 13.  8. 12.\n",
      "  17. 22. 26. 41. 28. 38. 31. 39. 34. 39.]]\n"
     ]
    }
   ],
   "source": [
    "# Lets see without Torch\n",
    "import numpy as np\n",
    "from rdkit import Chem\n",
    "\n",
    "edge_index = []\n",
    "edge_features = []\n",
    "node_features = []\n",
    "\n",
    "for bond in mol.GetBonds():\n",
    "    i = bond.GetBeginAtomIdx()\n",
    "    j = bond.GetEndAtomIdx()\n",
    "    \n",
    "    # Building edge index\n",
    "    edge_index.append([i, j])\n",
    "    edge_index.append([j, i])\n",
    "\n",
    "    # Extracting bond features\n",
    "    bond_feats = [\n",
    "        bond.GetBondType(),\n",
    "        bond.GetBondDir()  \n",
    "    ]\n",
    "    edge_features.extend([bond_feats, bond_feats])  # Adding features for both directions of the edge\n",
    "\n",
    "for atom in mol.GetAtoms():\n",
    "    # Extracting node features\n",
    "    atom_feats = [\n",
    "        atom.GetAtomicNum(),\n",
    "        #atom.GetChiralTag()   #For now we do without this; Seems to be 0 anyways for majority of cases\n",
    "    ]\n",
    "    node_features.append(atom_feats)\n",
    "\n",
    "# Convert to numpy arrays\n",
    "edge_index = (np.array(edge_index).T).astype(np.float32)  \n",
    "edge_features = np.array(edge_features).astype(np.float32)\n",
    "node_features = np.array(node_features).astype(np.float32)\n",
    "print(edge_features)\n",
    "print(node_features)\n",
    "print(edge_index)"
   ]
  },
  {
   "cell_type": "code",
   "execution_count": 12,
   "id": "4f4f15e6-98f9-44c1-a8a7-1ad0b88e61c3",
   "metadata": {},
   "outputs": [
    {
     "name": "stdout",
     "output_type": "stream",
     "text": [
      "[[1 1 0 ... 0 0 0]\n",
      " [1 1 1 ... 0 0 0]\n",
      " [0 1 1 ... 0 0 0]\n",
      " ...\n",
      " [0 0 0 ... 1 1 1]\n",
      " [0 0 0 ... 1 1 0]\n",
      " [0 0 0 ... 1 0 1]]\n",
      "(43, 43)\n"
     ]
    }
   ],
   "source": [
    "from rdkit import Chem\n",
    "import numpy as np\n",
    "\n",
    "num_atoms = mol.GetNumAtoms()\n",
    "# Adjacency matrix\n",
    "A = np.zeros((num_atoms, num_atoms), dtype=int)\n",
    "\n",
    "for bond in mol.GetBonds():\n",
    "    i = bond.GetBeginAtomIdx()\n",
    "    j = bond.GetEndAtomIdx()\n",
    "    \n",
    "    \n",
    "    A[i, j] = 1\n",
    "    A[j, i] = 1  \n",
    "\n",
    "np.fill_diagonal(A, 1) # With this we have Ã = A + I\n",
    "print(A)\n",
    "print(A.shape)"
   ]
  },
  {
   "cell_type": "code",
   "execution_count": 13,
   "id": "96203304-c273-4f3f-9b8a-402f0e86ff64",
   "metadata": {},
   "outputs": [
    {
     "data": {
      "text/plain": [
       "array([[469.40163078],\n",
       "       [422.89073243],\n",
       "       [445.46406882],\n",
       "       [514.29102892],\n",
       "       [426.16290076],\n",
       "       [407.6529065 ],\n",
       "       [410.87082706],\n",
       "       [464.89502797],\n",
       "       [504.42519968],\n",
       "       [444.37043235],\n",
       "       [431.87426946],\n",
       "       [445.36773095],\n",
       "       [428.85859272],\n",
       "       [469.20566171],\n",
       "       [511.86306798],\n",
       "       [484.24642861],\n",
       "       [427.01870705],\n",
       "       [469.96835607],\n",
       "       [519.89744913],\n",
       "       [468.05004273],\n",
       "       [478.66151388],\n",
       "       [400.3613622 ],\n",
       "       [412.40100673],\n",
       "       [449.42421801],\n",
       "       [560.02512141],\n",
       "       [446.57839035],\n",
       "       [519.76069806],\n",
       "       [444.25218417],\n",
       "       [474.02896305],\n",
       "       [454.47445456],\n",
       "       [433.60976435],\n",
       "       [438.71216279],\n",
       "       [438.17632735],\n",
       "       [461.90169982],\n",
       "       [405.34351907],\n",
       "       [489.18144334],\n",
       "       [512.94731942],\n",
       "       [451.20462984],\n",
       "       [461.5087033 ],\n",
       "       [424.97247248],\n",
       "       [449.75937806],\n",
       "       [513.65442049],\n",
       "       [461.40227525]])"
      ]
     },
     "execution_count": 13,
     "metadata": {},
     "output_type": "execute_result"
    }
   ],
   "source": [
    "W = np.random.rand(num_atoms, num_atoms)\n",
    "output = (A @ node_features).T @ W\n",
    "np.maximum(0,output).T # Applying ReLU; This is what is getting used for the next iteration?\n",
    "# I need to actually include edge features, and also update them"
   ]
  },
  {
   "cell_type": "code",
   "execution_count": 14,
   "id": "c78e516e-1353-48ad-97cc-2d28ac6d833a",
   "metadata": {},
   "outputs": [
    {
     "data": {
      "text/plain": [
       "array([[1., 1., 0., ..., 0., 0., 0.],\n",
       "       [1., 1., 1., ..., 0., 0., 0.],\n",
       "       [0., 1., 1., ..., 0., 0., 0.],\n",
       "       ...,\n",
       "       [0., 0., 0., ..., 1., 1., 1.],\n",
       "       [0., 0., 0., ..., 1., 1., 0.],\n",
       "       [0., 0., 0., ..., 1., 0., 1.]])"
      ]
     },
     "execution_count": 14,
     "metadata": {},
     "output_type": "execute_result"
    }
   ],
   "source": [
    "# Perhaps we can actually have the adjacency matrix already including information about the edges\n",
    "# such that we don't need to actually do the aggregating step (H = X + E) between node features,\n",
    "# and edge features (as this in matrix form is complicated), and just revert to dot product\n",
    "# between last H and A containing edge information. We'll also update this A.\n",
    "\n",
    "from rdkit import Chem\n",
    "import numpy as np\n",
    "\n",
    "node_features = []\n",
    "for atom in mol.GetAtoms():\n",
    "    # Extracting node features\n",
    "    atom_feats = [\n",
    "        atom.GetAtomicNum(),\n",
    "        #atom.GetChiralTag()   #For now we do without this; Seems to be 0 anyways for majority of cases\n",
    "    ]\n",
    "    node_features.append(atom_feats)\n",
    "node_features = np.array(node_features).astype(np.float32)\n",
    "\n",
    "num_atoms = mol.GetNumAtoms()\n",
    "# Using only information about bond type for the respetive adjancency matrix\n",
    "A = np.zeros((num_atoms, num_atoms), dtype=float)\n",
    "\n",
    "for bond in mol.GetBonds():\n",
    "    i = bond.GetBeginAtomIdx()\n",
    "    j = bond.GetEndAtomIdx()\n",
    "    bond_type = bond.GetBondType() \n",
    "    \n",
    "    A[i, j] = bond_type\n",
    "    A[j, i] = bond_type  \n",
    "\n",
    "np.fill_diagonal(A, 1) # diagonal with 1's; Ã = A + I\n",
    "A"
   ]
  },
  {
   "cell_type": "code",
   "execution_count": 15,
   "id": "5fa00302-5480-4c3b-afe7-9d4ccafcb6a1",
   "metadata": {},
   "outputs": [
    {
     "name": "stdout",
     "output_type": "stream",
     "text": [
      "[[1493.35360479]\n",
      " [1630.99609971]\n",
      " [1626.44644012]\n",
      " [1493.58011085]\n",
      " [1440.71598861]\n",
      " [1677.38270022]\n",
      " [1492.91565108]\n",
      " [1485.57003939]\n",
      " [1462.1588621 ]\n",
      " [1367.66227559]\n",
      " [1327.70888613]\n",
      " [1334.6515873 ]\n",
      " [1678.85363822]\n",
      " [1700.67229939]\n",
      " [1709.56962135]\n",
      " [1144.35834866]\n",
      " [1662.80759545]\n",
      " [1591.96146442]\n",
      " [1490.60519658]\n",
      " [1778.86527709]\n",
      " [1299.60081982]\n",
      " [1582.91184602]\n",
      " [1138.82653859]\n",
      " [1749.73555367]\n",
      " [1311.8589572 ]\n",
      " [1590.72759809]\n",
      " [1506.57075785]\n",
      " [1774.97820172]\n",
      " [1349.94835942]\n",
      " [1532.35984954]\n",
      " [1668.69604312]\n",
      " [1507.11772537]\n",
      " [1325.85135524]\n",
      " [1394.75365257]\n",
      " [1393.24108983]\n",
      " [1655.49075923]\n",
      " [1750.02071818]\n",
      " [1603.04903439]\n",
      " [1584.60099302]\n",
      " [1820.05422545]\n",
      " [1612.69681659]\n",
      " [1330.20960901]\n",
      " [1492.30537499]]\n"
     ]
    }
   ],
   "source": [
    "W = np.random.rand(num_atoms, num_atoms)\n",
    "output = (A @ node_features).T @ W\n",
    "output_1 = np.maximum(0,output).T #Applying ReLU, might want to try sigmoid to place values between 0 and 1\n",
    "print(output_1)"
   ]
  },
  {
   "cell_type": "code",
   "execution_count": 16,
   "id": "fb31ef87-7f2e-4073-98d7-a5c9983d5bf1",
   "metadata": {},
   "outputs": [
    {
     "name": "stdout",
     "output_type": "stream",
     "text": [
      "[[2986.70720959 3124.3497045     0.         ...    0.\n",
      "     0.            0.        ]\n",
      " [3124.3497045  3261.99219941 3257.44253983 ...    0.\n",
      "     0.            0.        ]\n",
      " [   0.         3257.44253983 3252.89288024 ...    0.\n",
      "     0.            0.        ]\n",
      " ...\n",
      " [   0.            0.            0.         ... 3225.39363319\n",
      "  2942.9064256  3105.00219159]\n",
      " [   0.            0.            0.         ... 2942.9064256\n",
      "  2660.41921801    0.        ]\n",
      " [   0.            0.            0.         ... 3105.00219159\n",
      "     0.         2984.61074999]]\n",
      "[[1.15294511e+09 1.27310285e+09 1.23507686e+09 1.12252026e+09\n",
      "  1.14652674e+09 1.25246992e+09 1.13086289e+09 1.14405090e+09\n",
      "  1.15058555e+09 1.03192618e+09 1.03370853e+09 1.01304440e+09\n",
      "  1.27214432e+09 1.31568944e+09 1.31616475e+09 8.77559292e+08\n",
      "  1.25723554e+09 1.22294928e+09 1.18205330e+09 1.37922949e+09\n",
      "  9.70912528e+08 1.20192539e+09 8.72860216e+08 1.34330621e+09\n",
      "  1.01492718e+09 1.23751113e+09 1.14028973e+09 1.36276416e+09\n",
      "  1.06957556e+09 1.18537965e+09 1.30092101e+09 1.11694510e+09\n",
      "  1.02643244e+09 1.07883016e+09 1.08542155e+09 1.28007887e+09\n",
      "  1.35714718e+09 1.25163862e+09 1.20491358e+09 1.41084130e+09\n",
      "  1.25459869e+09 1.01622783e+09 1.14280991e+09]]\n"
     ]
    }
   ],
   "source": [
    "A2 = A * (output_1 + output_1.T) # The idea is that at each entry of A\n",
    "# for a certain edge between node i and j, we have information added based on past A\n",
    "# and the node representations for i and j\n",
    "# The update of A should be done after the update of H (node representations)\n",
    "print(A2)\n",
    "output_2 = np.maximum(0, (A2 @ output_1).T @ W)\n",
    "print(output_2) #Yeah, need sigmoid .."
   ]
  },
  {
   "cell_type": "code",
   "execution_count": 17,
   "id": "75575112-afdd-4222-b952-c8ded85d15ad",
   "metadata": {},
   "outputs": [],
   "source": [
    "from Net import *\n",
    "class CombinedMeanPooling(Layer):\n",
    "    def __init__(self, transformed_vector_size):\n",
    "        self.transformed_vector_size = transformed_vector_size\n",
    "\n",
    "    def forward(self, node_vector, adjacency_matrix):\n",
    "        pool_size = len(node_vector) // self.transformed_vector_size\n",
    "        pooled_node_vector = [np.mean(node_vector[i * pool_size: (i + 1) * pool_size])\n",
    "                              for i in range(self.transformed_vector_size)]\n",
    "\n",
    "        pooled_adjacency_matrix = np.zeros((self.transformed_vector_size, self.transformed_vector_size))\n",
    "        for i in range(self.transformed_vector_size):\n",
    "            for j in range(self.transformed_vector_size):\n",
    "                submatrix = adjacency_matrix[i * pool_size: (i + 1) * pool_size,\n",
    "                                            j * pool_size: (j + 1) * pool_size]\n",
    "                pooled_adjacency_matrix[i, j] = np.mean(submatrix)\n",
    "\n",
    "        return pooled_node_vector, pooled_adjacency_matrix\n",
    "\n",
    "\n",
    "    def backward(self):\n",
    "        #Given that this is a first layer\n",
    "        #And we have no learnable parameters, it shouldn't matter\n",
    "        # to actually specify a backward pass\n",
    "        pass\n",
    "        \n"
   ]
  },
  {
   "cell_type": "code",
   "execution_count": 18,
   "id": "f94c6e9c-a2fa-441e-b762-44273daac058",
   "metadata": {},
   "outputs": [
    {
     "name": "stdout",
     "output_type": "stream",
     "text": [
      "Pooled Node Vector:\n",
      "[6.6, 6.6, 6.4, 6.4, 6.2, 6.4, 6.2, 6.0]\n",
      "\n",
      "Pooled Adjacency Matrix:\n",
      "[[0.6  0.04 0.08 0.   0.04 0.   0.   0.  ]\n",
      " [0.04 0.6  0.08 0.04 0.   0.   0.   0.  ]\n",
      " [0.08 0.08 0.52 0.04 0.   0.   0.   0.  ]\n",
      " [0.   0.04 0.04 2.2  0.96 0.   0.   0.  ]\n",
      " [0.04 0.   0.   0.96 2.2  0.12 0.   0.  ]\n",
      " [0.   0.   0.   0.   0.12 0.44 0.04 0.04]\n",
      " [0.   0.   0.   0.   0.   0.04 3.16 1.44]\n",
      " [0.   0.   0.   0.   0.   0.04 1.44 4.04]]\n",
      "43\n"
     ]
    }
   ],
   "source": [
    "node_vector_size = len(node_features)\n",
    "transformed_vector_size = 8\n",
    "pool_size = 2\n",
    "\n",
    "\n",
    "mean_pooling = CombinedMeanPooling(transformed_vector_size)\n",
    "pooled_node_vector, pooled_adjacency_matrix = mean_pooling.forward(node_features, A)\n",
    "\n",
    "print(\"Pooled Node Vector:\")\n",
    "print(pooled_node_vector)\n",
    "\n",
    "print(\"\\nPooled Adjacency Matrix:\")\n",
    "print(pooled_adjacency_matrix)\n",
    "print(len(node_features))"
   ]
  },
  {
   "cell_type": "code",
   "execution_count": 19,
   "id": "f105cd82-6525-4e55-abb3-7666efc68688",
   "metadata": {},
   "outputs": [
    {
     "name": "stderr",
     "output_type": "stream",
     "text": [
      "[09:08:07] WARNING: not removing hydrogen atom without neighbors\n",
      "[09:08:07] WARNING: not removing hydrogen atom without neighbors\n",
      "[09:08:07] WARNING: not removing hydrogen atom without neighbors\n",
      "[09:08:07] WARNING: not removing hydrogen atom without neighbors\n",
      "[09:08:07] WARNING: not removing hydrogen atom without neighbors\n",
      "[09:08:07] WARNING: not removing hydrogen atom without neighbors\n",
      "[09:08:07] WARNING: not removing hydrogen atom without neighbors\n",
      "[09:08:07] WARNING: not removing hydrogen atom without neighbors\n",
      "[09:08:07] WARNING: not removing hydrogen atom without neighbors\n",
      "[09:08:07] WARNING: not removing hydrogen atom without neighbors\n",
      "[09:08:07] WARNING: not removing hydrogen atom without neighbors\n",
      "[09:08:08] WARNING: not removing hydrogen atom without neighbors\n",
      "[09:08:08] WARNING: not removing hydrogen atom without neighbors\n"
     ]
    },
    {
     "name": "stdout",
     "output_type": "stream",
     "text": [
      "Average number of atoms across all molecules: 33.641205325858444\n",
      "Molecules with the lowest number of atoms (1): [41, 50, 51, 53, 59, 126, 136, 139, 148, 251, 424, 734, 740, 1300, 1311, 1352, 1353, 1354, 1355, 1356, 1361, 1363, 1364, 1365, 1366]\n"
     ]
    }
   ],
   "source": [
    "from rdkit import Chem\n",
    "import pandas as pd\n",
    "\n",
    "\n",
    "data = pd.read_csv(\"data/sider.csv\")\n",
    "\n",
    "num_atoms_list = []\n",
    "for mol_str in data[\"smiles\"]:  \n",
    "    mol = Chem.MolFromSmiles(mol_str)  \n",
    "    if mol is not None:\n",
    "        num_atoms = mol.GetNumAtoms()\n",
    "        num_atoms_list.append(num_atoms)\n",
    "\n",
    "average_num_atoms = sum(num_atoms_list) / len(num_atoms_list)\n",
    "\n",
    "min_num_atoms = min(num_atoms_list)\n",
    "molecules_with_min_atoms = [idx for idx, num_atoms in enumerate(num_atoms_list) if num_atoms == min_num_atoms]\n",
    "\n",
    "print(f\"Average number of atoms across all molecules: {average_num_atoms}\")\n",
    "print(f\"Molecules with the lowest number of atoms ({min_num_atoms}): {molecules_with_min_atoms}\")\n",
    "# Might choose transformed_size for mean pooling as 8\n",
    "# Will not consider any molecule with less than 8 atoms"
   ]
  },
  {
   "cell_type": "code",
   "execution_count": 20,
   "id": "cc978605-0715-49c6-94cd-639a5d59aecb",
   "metadata": {},
   "outputs": [
    {
     "name": "stderr",
     "output_type": "stream",
     "text": [
      "[09:08:08] WARNING: not removing hydrogen atom without neighbors\n",
      "[09:08:08] WARNING: not removing hydrogen atom without neighbors\n",
      "[09:08:08] WARNING: not removing hydrogen atom without neighbors\n",
      "[09:08:08] WARNING: not removing hydrogen atom without neighbors\n",
      "[09:08:08] WARNING: not removing hydrogen atom without neighbors\n",
      "[09:08:08] WARNING: not removing hydrogen atom without neighbors\n",
      "[09:08:08] WARNING: not removing hydrogen atom without neighbors\n",
      "[09:08:08] WARNING: not removing hydrogen atom without neighbors\n",
      "[09:08:08] WARNING: not removing hydrogen atom without neighbors\n",
      "[09:08:08] WARNING: not removing hydrogen atom without neighbors\n",
      "[09:08:08] WARNING: not removing hydrogen atom without neighbors\n",
      "[09:08:08] WARNING: not removing hydrogen atom without neighbors\n",
      "[09:08:08] WARNING: not removing hydrogen atom without neighbors\n"
     ]
    },
    {
     "name": "stdout",
     "output_type": "stream",
     "text": [
      "1352\n"
     ]
    }
   ],
   "source": [
    "data = pd.read_csv(\"data/sider.csv\")\n",
    "\n",
    "total_molecules = len(data)\n",
    "eliminated_molecules = 0\n",
    "\n",
    "for mol_str in data[\"smiles\"]:  \n",
    "    mol = Chem.MolFromSmiles(mol_str)  \n",
    "    if mol is not None:\n",
    "        atom_count = mol.GetNumAtoms()\n",
    "\n",
    "    \n",
    "    if atom_count < 8:\n",
    "        eliminated_molecules += 1\n",
    "\n",
    "remaining_molecules = total_molecules - eliminated_molecules\n",
    "print(remaining_molecules) #We'll use these ones"
   ]
  },
  {
   "cell_type": "code",
   "execution_count": 21,
   "id": "82cd6722-112b-4a00-a497-931c4628a8e5",
   "metadata": {},
   "outputs": [
    {
     "name": "stdout",
     "output_type": "stream",
     "text": [
      "H_output:\n",
      " [6.45642025 2.49742428 9.29207817 1.84028449 1.67689658]\n",
      "A_output:\n",
      " [[ -8.70902377  -0.12573595  15.51656675   3.46230219   0.53995512]\n",
      " [ -0.77154361   4.0058555  -11.27805636 -11.10780933   0.83254133]\n",
      " [  7.59141268   6.62086375  11.83826557  -5.19041586  -3.53157594]\n",
      " [-25.9746568    9.56077321  -8.2441547  -10.24280893   1.77005127]\n",
      " [ -7.68786479  -4.38803483   3.75776363   5.49802438  -4.78800374]]\n"
     ]
    }
   ],
   "source": [
    "# Testing GIN layer\n",
    "input_size = 5  \n",
    "H = np.random.randn(input_size)  \n",
    "A = np.random.randn(input_size, input_size)\n",
    "\n",
    "# Initialize GIN layer\n",
    "gin_layer = GIN(input_size)\n",
    "\n",
    "# Perform forward pass\n",
    "H_output, A_output = gin_layer.forward(H, A)\n",
    "\n",
    "\n",
    "print(\"H_output:\\n\", H_output)\n",
    "print(\"A_output:\\n\", A_output)"
   ]
  },
  {
   "cell_type": "code",
   "execution_count": 22,
   "id": "b74bfe3f-7dbe-4d59-9f21-2fbdd3e4c079",
   "metadata": {},
   "outputs": [
    {
     "name": "stdout",
     "output_type": "stream",
     "text": [
      "Pooled H: [1.5, 6.0, 5.5, 9.0, 9.5, 6.0, 9.0, 9.0, 9.0, 10.0]\n",
      "Pooled A: [[0.4087064  0.60458152 0.53890958 0.49470144 0.5424381  0.67128504\n",
      "  0.29058149 0.69882139 0.65466099 0.43021522]\n",
      " [0.40812979 0.51127896 0.47501895 0.51056925 0.46581065 0.54404449\n",
      "  0.3511121  0.6700264  0.52335208 0.40826923]\n",
      " [0.66806415 0.70706941 0.13315285 0.51754932 0.59377161 0.10522715\n",
      "  0.58278891 0.45230972 0.51207867 0.67546456]\n",
      " [0.28014447 0.22534363 0.46362953 0.78721442 0.44266708 0.36788489\n",
      "  0.7925176  0.78191123 0.41714269 0.46819147]\n",
      " [0.45664333 0.49397633 0.59834171 0.27120031 0.63269499 0.63264031\n",
      "  0.31858296 0.22381765 0.81011296 0.45527701]\n",
      " [0.41617783 0.57163308 0.24543747 0.81907427 0.44678423 0.20591169\n",
      "  0.91482128 0.72332726 0.18212626 0.71144219]\n",
      " [0.17197121 0.27027392 0.81080524 0.81827636 0.53992133 0.66504451\n",
      "  0.87186259 0.76469013 0.56215392 0.51768873]\n",
      " [0.38831773 0.18041335 0.11645381 0.75615248 0.34541283 0.07072526\n",
      "  0.71317262 0.79913233 0.27213146 0.41869421]\n",
      " [0.70649573 0.40539588 0.87210586 0.17294253 0.71178769 0.78226172\n",
      "  0.15127362 0.19461144 0.64364211 0.77993327]\n",
      " [0.20679094 0.58255677 0.32457757 0.36945808 0.55360228 0.4830189\n",
      "  0.48589231 0.25302386 0.97658381 0.13062075]]\n"
     ]
    }
   ],
   "source": [
    "H = np.array([1, 2, 7, 5, 5, 6, 9, 9, 9, 10, 11, 12, 13, 14, 15])\n",
    "A = np.random.rand(15, 15)\n",
    "pooling_layer = Mean_pooling(size=10)\n",
    "\n",
    "pooled_H, pooled_A = pooling_layer.forward(H, A)\n",
    "\n",
    "print(\"Pooled H:\", pooled_H)\n",
    "print(\"Pooled A:\", pooled_A)"
   ]
  }
 ],
 "metadata": {
  "kernelspec": {
   "display_name": "Python 3 (ipykernel)",
   "language": "python",
   "name": "python3"
  },
  "language_info": {
   "codemirror_mode": {
    "name": "ipython",
    "version": 3
   },
   "file_extension": ".py",
   "mimetype": "text/x-python",
   "name": "python",
   "nbconvert_exporter": "python",
   "pygments_lexer": "ipython3",
   "version": "3.10.13"
  }
 },
 "nbformat": 4,
 "nbformat_minor": 5
}

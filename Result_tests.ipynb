{
 "cells": [
  {
   "cell_type": "code",
   "execution_count": 1,
   "id": "12c31628-ac7e-416f-84d6-c212a5aa46c2",
   "metadata": {},
   "outputs": [
    {
     "name": "stderr",
     "output_type": "stream",
     "text": [
      "[20:18:23] WARNING: not removing hydrogen atom without neighbors\n",
      "[20:18:23] WARNING: not removing hydrogen atom without neighbors\n",
      "[20:18:23] WARNING: not removing hydrogen atom without neighbors\n",
      "[20:18:23] WARNING: not removing hydrogen atom without neighbors\n",
      "[20:18:24] WARNING: not removing hydrogen atom without neighbors\n",
      "[20:18:24] WARNING: not removing hydrogen atom without neighbors\n",
      "[20:18:24] WARNING: not removing hydrogen atom without neighbors\n",
      "[20:18:24] WARNING: not removing hydrogen atom without neighbors\n",
      "[20:18:24] WARNING: not removing hydrogen atom without neighbors\n"
     ]
    },
    {
     "name": "stdout",
     "output_type": "stream",
     "text": [
      "Epoch 1/10, Training Loss = 0.6198478672113785, Training accuracy = 0.7029598308668076\n",
      "Epoch 2/10, Training Loss = 0.6077787416760819, Training accuracy = 0.7177589852008457\n",
      "Epoch 3/10, Training Loss = 0.6072648875860859, Training accuracy = 0.7177589852008457\n",
      "Epoch 4/10, Training Loss = 0.6068349888959862, Training accuracy = 0.7177589852008457\n",
      "Epoch 5/10, Training Loss = 0.6064363077325303, Training accuracy = 0.7177589852008457\n",
      "Epoch 6/10, Training Loss = 0.6060369268892096, Training accuracy = 0.7177589852008457\n",
      "Epoch 7/10, Training Loss = 0.6057389864408425, Training accuracy = 0.7177589852008457\n",
      "Epoch 8/10, Training Loss = 0.6054499306270443, Training accuracy = 0.7177589852008457\n",
      "Epoch 9/10, Training Loss = 0.6051621615019774, Training accuracy = 0.7177589852008457\n",
      "Epoch 10/10, Training Loss = 0.604894487604895, Training accuracy = 0.7177589852008457\n",
      "Test Loss: 0.6258570025731295, Test accuracy: 0.6798029556650246\n",
      "Evaluation Loss: 0.6296202874868555, Evaluation accuracy: 0.6748768472906403\n"
     ]
    }
   ],
   "source": [
    "import pandas as pd\n",
    "from Net import *\n",
    "dataset = pd.read_csv(\"data/filtered_sider.csv\")\n",
    "#task = \"Hepatobiliary disorders\"\n",
    "task = \"Metabolism and nutrition disorders\"\n",
    "#task = \"Pregnancy puerperium and perinatal conditions\"\n",
    "#task = \"Renal and urinary disorders\"\n",
    "#task = \"Injury poisoning and procedural complications\"\n",
    "#task = \"Product issues\"\n",
    "#task = \"Reproductive system and breast disorders\"\n",
    "network = [Sum_pooling(8),\n",
    "           GIN(8),\n",
    "           ReLU(),\n",
    "           GIN(8),\n",
    "           ReLU(),\n",
    "           GIN(8),\n",
    "           ReLU(),\n",
    "           GIN(8),\n",
    "           ReLU(),\n",
    "           GIN(8),\n",
    "           ReLU(),\n",
    "           GlobalMeanPooling(),\n",
    "           Dense(8,100),\n",
    "           Convolution(100,3),\n",
    "           BatchNorm(eps = 1e-5, momentum = 0.8, batch_size = 32),\n",
    "           ReLU(),\n",
    "           Convolution(98,3),\n",
    "           BatchNorm(eps = 1e-5, momentum = 0.8, batch_size = 32),\n",
    "           ReLU(),\n",
    "           Convolution(96,3),\n",
    "           BatchNorm(eps = 1e-5, momentum = 0.8, batch_size = 32),\n",
    "           ReLU(),\n",
    "           Dense(94,1),\n",
    "           Sigmoid()           \n",
    "]\n",
    "\n",
    "\n",
    "MBGD(network, binary_cross_entropy, binary_cross_entropy_prime, dataset, task, epochs = 10,\n",
    "       learning_rate = 0.05, batch_size = 32, verbose = True)"
   ]
  }
 ],
 "metadata": {
  "kernelspec": {
   "display_name": "Python 3 (ipykernel)",
   "language": "python",
   "name": "python3"
  },
  "language_info": {
   "codemirror_mode": {
    "name": "ipython",
    "version": 3
   },
   "file_extension": ".py",
   "mimetype": "text/x-python",
   "name": "python",
   "nbconvert_exporter": "python",
   "pygments_lexer": "ipython3",
   "version": "3.10.13"
  }
 },
 "nbformat": 4,
 "nbformat_minor": 5
}

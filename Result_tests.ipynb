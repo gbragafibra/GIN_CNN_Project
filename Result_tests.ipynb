{
 "cells": [
  {
   "cell_type": "code",
   "execution_count": 10,
   "id": "12c31628-ac7e-416f-84d6-c212a5aa46c2",
   "metadata": {},
   "outputs": [
    {
     "name": "stderr",
     "output_type": "stream",
     "text": [
      "[15:06:31] WARNING: not removing hydrogen atom without neighbors\n",
      "[15:06:31] WARNING: not removing hydrogen atom without neighbors\n",
      "[15:06:31] WARNING: not removing hydrogen atom without neighbors\n",
      "[15:06:31] WARNING: not removing hydrogen atom without neighbors\n",
      "[15:06:32] WARNING: not removing hydrogen atom without neighbors\n",
      "[15:06:32] WARNING: not removing hydrogen atom without neighbors\n",
      "[15:06:32] WARNING: not removing hydrogen atom without neighbors\n",
      "[15:06:32] WARNING: not removing hydrogen atom without neighbors\n",
      "[15:06:32] WARNING: not removing hydrogen atom without neighbors\n"
     ]
    },
    {
     "ename": "TypeError",
     "evalue": "GIN.forward() missing 1 required positional argument: 'A'",
     "output_type": "error",
     "traceback": [
      "\u001b[0;31m---------------------------------------------------------------------------\u001b[0m",
      "\u001b[0;31mTypeError\u001b[0m                                 Traceback (most recent call last)",
      "Cell \u001b[0;32mIn[10], line 31\u001b[0m\n\u001b[1;32m      5\u001b[0m network \u001b[38;5;241m=\u001b[39m [Mean_pooling(\u001b[38;5;241m8\u001b[39m),\n\u001b[1;32m      6\u001b[0m            GIN(\u001b[38;5;241m8\u001b[39m),\n\u001b[1;32m      7\u001b[0m            Sigmoid(),\n\u001b[0;32m   (...)\u001b[0m\n\u001b[1;32m     27\u001b[0m            Sigmoid()           \n\u001b[1;32m     28\u001b[0m ]\n\u001b[1;32m     29\u001b[0m \u001b[38;5;66;03m# Need to solve the convolution layer problem; Solved perhaps (?)\u001b[39;00m\n\u001b[0;32m---> 31\u001b[0m \u001b[43mSGD\u001b[49m\u001b[43m(\u001b[49m\u001b[43mnetwork\u001b[49m\u001b[43m,\u001b[49m\u001b[43m \u001b[49m\u001b[43mbinary_cross_entropy\u001b[49m\u001b[43m,\u001b[49m\u001b[43m \u001b[49m\u001b[43mbinary_cross_entropy_prime\u001b[49m\u001b[43m,\u001b[49m\u001b[43m \u001b[49m\u001b[43mdataset\u001b[49m\u001b[43m,\u001b[49m\u001b[43m \u001b[49m\u001b[43mtask\u001b[49m\u001b[43m,\u001b[49m\u001b[43m \u001b[49m\u001b[43mepochs\u001b[49m\u001b[43m \u001b[49m\u001b[38;5;241;43m=\u001b[39;49m\u001b[43m \u001b[49m\u001b[38;5;241;43m10\u001b[39;49m\u001b[43m,\u001b[49m\n\u001b[1;32m     32\u001b[0m \u001b[43m       \u001b[49m\u001b[43mlearning_rate\u001b[49m\u001b[43m \u001b[49m\u001b[38;5;241;43m=\u001b[39;49m\u001b[43m \u001b[49m\u001b[38;5;241;43m0.1\u001b[39;49m\u001b[43m,\u001b[49m\u001b[43m \u001b[49m\u001b[43mbatch_size\u001b[49m\u001b[43m \u001b[49m\u001b[38;5;241;43m=\u001b[39;49m\u001b[43m \u001b[49m\u001b[38;5;241;43m10\u001b[39;49m\u001b[43m,\u001b[49m\u001b[43m \u001b[49m\u001b[43mverbose\u001b[49m\u001b[43m \u001b[49m\u001b[38;5;241;43m=\u001b[39;49m\u001b[43m \u001b[49m\u001b[38;5;28;43;01mTrue\u001b[39;49;00m\u001b[43m)\u001b[49m\n",
      "File \u001b[0;32m~/Desktop/testing/Bioinf_Project/Net.py:359\u001b[0m, in \u001b[0;36mSGD\u001b[0;34m(network, loss, loss_prime, dataset, task, epochs, learning_rate, batch_size, verbose)\u001b[0m\n\u001b[1;32m    356\u001b[0m batch_loss \u001b[38;5;241m=\u001b[39m \u001b[38;5;241m0\u001b[39m\n\u001b[1;32m    357\u001b[0m \u001b[38;5;28;01mfor\u001b[39;00m x, y \u001b[38;5;129;01min\u001b[39;00m \u001b[38;5;28mzip\u001b[39m(x_batch, y_batch):\n\u001b[1;32m    358\u001b[0m     \u001b[38;5;66;03m# Do forward pass\u001b[39;00m\n\u001b[0;32m--> 359\u001b[0m     output \u001b[38;5;241m=\u001b[39m \u001b[43mpredict\u001b[49m\u001b[43m(\u001b[49m\u001b[43mnetwork\u001b[49m\u001b[43m,\u001b[49m\u001b[43m \u001b[49m\u001b[43mx\u001b[49m\u001b[43m)\u001b[49m\n\u001b[1;32m    360\u001b[0m     batch_loss \u001b[38;5;241m+\u001b[39m\u001b[38;5;241m=\u001b[39m loss(y, output) \u001b[38;5;241m/\u001b[39m \u001b[38;5;28mlen\u001b[39m(x_batch)\n\u001b[1;32m    362\u001b[0m     \u001b[38;5;66;03m# Do backward pass\u001b[39;00m\n",
      "File \u001b[0;32m~/Desktop/testing/Bioinf_Project/Net.py:334\u001b[0m, in \u001b[0;36mpredict\u001b[0;34m(network, input)\u001b[0m\n\u001b[1;32m    332\u001b[0m output \u001b[38;5;241m=\u001b[39m \u001b[38;5;28minput\u001b[39m \n\u001b[1;32m    333\u001b[0m \u001b[38;5;28;01mfor\u001b[39;00m layer \u001b[38;5;129;01min\u001b[39;00m network:\n\u001b[0;32m--> 334\u001b[0m \toutput \u001b[38;5;241m=\u001b[39m \u001b[43mlayer\u001b[49m\u001b[38;5;241;43m.\u001b[39;49m\u001b[43mforward\u001b[49m\u001b[43m(\u001b[49m\u001b[43moutput\u001b[49m\u001b[43m)\u001b[49m\n\u001b[1;32m    336\u001b[0m \u001b[38;5;28;01mreturn\u001b[39;00m output\n",
      "\u001b[0;31mTypeError\u001b[0m: GIN.forward() missing 1 required positional argument: 'A'"
     ]
    }
   ],
   "source": [
    "import pandas as pd\n",
    "from Net import *\n",
    "dataset = pd.read_csv(\"data/filtered_sider.csv\")\n",
    "task = \"Hepatobiliary disorders\"\n",
    "network = [Mean_pooling(8),\n",
    "           GIN(8),\n",
    "           Sigmoid(),\n",
    "           GIN(8),\n",
    "           Sigmoid(),\n",
    "           GIN(8),\n",
    "           Sigmoid(),\n",
    "           GIN(8),\n",
    "           Sigmoid(),\n",
    "           GIN(8),\n",
    "           Sigmoid(),\n",
    "           GlobalMeanPooling(),\n",
    "           Convolution((1,1,8),2,1),\n",
    "           BatchNorm(eps = 1e-5, momentum = 0.8, batch_size = 10),\n",
    "           ReLU(),\n",
    "           Convolution((1,1,8),2,1),\n",
    "           BatchNorm(eps = 1e-5, momentum = 0.8, batch_size = 10),\n",
    "           ReLU(),\n",
    "           Convolution((1,1,8),2,1),\n",
    "           BatchNorm(eps = 1e-5, momentum = 0.8, batch_size = 10),\n",
    "           ReLU(),\n",
    "           Dense(8,1),\n",
    "           Sigmoid()           \n",
    "]\n",
    "# Need to solve the convolution layer problem; Solved perhaps (?)\n",
    "\n",
    "SGD(network, binary_cross_entropy, binary_cross_entropy_prime, dataset, task, epochs = 10,\n",
    "       learning_rate = 0.1, batch_size = 10, verbose = True)"
   ]
  }
 ],
 "metadata": {
  "kernelspec": {
   "display_name": "Python 3 (ipykernel)",
   "language": "python",
   "name": "python3"
  },
  "language_info": {
   "codemirror_mode": {
    "name": "ipython",
    "version": 3
   },
   "file_extension": ".py",
   "mimetype": "text/x-python",
   "name": "python",
   "nbconvert_exporter": "python",
   "pygments_lexer": "ipython3",
   "version": "3.10.13"
  }
 },
 "nbformat": 4,
 "nbformat_minor": 5
}

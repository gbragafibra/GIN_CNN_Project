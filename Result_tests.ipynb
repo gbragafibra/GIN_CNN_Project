{
 "cells": [
  {
   "cell_type": "code",
   "execution_count": 3,
   "id": "12c31628-ac7e-416f-84d6-c212a5aa46c2",
   "metadata": {},
   "outputs": [
    {
     "name": "stderr",
     "output_type": "stream",
     "text": [
      "[16:05:29] WARNING: not removing hydrogen atom without neighbors\n",
      "[16:05:29] WARNING: not removing hydrogen atom without neighbors\n",
      "[16:05:29] WARNING: not removing hydrogen atom without neighbors\n",
      "[16:05:29] WARNING: not removing hydrogen atom without neighbors\n",
      "[16:05:29] WARNING: not removing hydrogen atom without neighbors\n",
      "[16:05:29] WARNING: not removing hydrogen atom without neighbors\n",
      "[16:05:29] WARNING: not removing hydrogen atom without neighbors\n",
      "[16:05:29] WARNING: not removing hydrogen atom without neighbors\n",
      "[16:05:29] WARNING: not removing hydrogen atom without neighbors\n"
     ]
    },
    {
     "name": "stdout",
     "output_type": "stream",
     "text": [
      "test\n"
     ]
    },
    {
     "ename": "ValueError",
     "evalue": "shapes (1,100) and (8,) not aligned: 100 (dim 1) != 8 (dim 0)",
     "output_type": "error",
     "traceback": [
      "\u001b[0;31m---------------------------------------------------------------------------\u001b[0m",
      "\u001b[0;31mValueError\u001b[0m                                Traceback (most recent call last)",
      "Cell \u001b[0;32mIn[3], line 36\u001b[0m\n\u001b[1;32m      5\u001b[0m network \u001b[38;5;241m=\u001b[39m [Mean_pooling(\u001b[38;5;241m8\u001b[39m),\n\u001b[1;32m      6\u001b[0m            GIN(\u001b[38;5;241m8\u001b[39m),\n\u001b[1;32m      7\u001b[0m            Sigmoid(),\n\u001b[0;32m   (...)\u001b[0m\n\u001b[1;32m     28\u001b[0m            Sigmoid()           \n\u001b[1;32m     29\u001b[0m ]\n\u001b[1;32m     30\u001b[0m \u001b[38;5;66;03m#Need to fix activation layers\u001b[39;00m\n\u001b[1;32m     31\u001b[0m \u001b[38;5;66;03m# Between the GIN layers, activation layers don't work\u001b[39;00m\n\u001b[1;32m     32\u001b[0m \u001b[38;5;66;03m# given that we have non homogenous inputs\u001b[39;00m\n\u001b[1;32m     33\u001b[0m \u001b[38;5;66;03m# and output grads apparently\u001b[39;00m\n\u001b[1;32m     34\u001b[0m \u001b[38;5;66;03m# Also the net doesn't learn\u001b[39;00m\n\u001b[1;32m     35\u001b[0m \u001b[38;5;66;03m# so need to fix that\u001b[39;00m\n\u001b[0;32m---> 36\u001b[0m \u001b[43mSGD\u001b[49m\u001b[43m(\u001b[49m\u001b[43mnetwork\u001b[49m\u001b[43m,\u001b[49m\u001b[43m \u001b[49m\u001b[43mbinary_cross_entropy\u001b[49m\u001b[43m,\u001b[49m\u001b[43m \u001b[49m\u001b[43mbinary_cross_entropy_prime\u001b[49m\u001b[43m,\u001b[49m\u001b[43m \u001b[49m\u001b[43mdataset\u001b[49m\u001b[43m,\u001b[49m\u001b[43m \u001b[49m\u001b[43mtask\u001b[49m\u001b[43m,\u001b[49m\u001b[43m \u001b[49m\u001b[43mepochs\u001b[49m\u001b[43m \u001b[49m\u001b[38;5;241;43m=\u001b[39;49m\u001b[43m \u001b[49m\u001b[38;5;241;43m10\u001b[39;49m\u001b[43m,\u001b[49m\n\u001b[1;32m     37\u001b[0m \u001b[43m       \u001b[49m\u001b[43mlearning_rate\u001b[49m\u001b[43m \u001b[49m\u001b[38;5;241;43m=\u001b[39;49m\u001b[43m \u001b[49m\u001b[38;5;241;43m0.1\u001b[39;49m\u001b[43m,\u001b[49m\u001b[43m \u001b[49m\u001b[43mbatch_size\u001b[49m\u001b[43m \u001b[49m\u001b[38;5;241;43m=\u001b[39;49m\u001b[43m \u001b[49m\u001b[38;5;241;43m10\u001b[39;49m\u001b[43m,\u001b[49m\u001b[43m \u001b[49m\u001b[43mverbose\u001b[49m\u001b[43m \u001b[49m\u001b[38;5;241;43m=\u001b[39;49m\u001b[43m \u001b[49m\u001b[38;5;28;43;01mTrue\u001b[39;49;00m\u001b[43m)\u001b[49m\n",
      "File \u001b[0;32m~/Desktop/testing/Bioinf_Project/Net.py:455\u001b[0m, in \u001b[0;36mSGD\u001b[0;34m(network, loss, loss_prime, dataset, task, epochs, learning_rate, batch_size, verbose)\u001b[0m\n\u001b[1;32m    453\u001b[0m         batch_grad \u001b[38;5;241m=\u001b[39m loss_prime(y, output) \u001b[38;5;241m/\u001b[39m \u001b[38;5;28mlen\u001b[39m(x_batch)\n\u001b[1;32m    454\u001b[0m         \u001b[38;5;28;01mfor\u001b[39;00m layer \u001b[38;5;129;01min\u001b[39;00m \u001b[38;5;28mreversed\u001b[39m(network):\n\u001b[0;32m--> 455\u001b[0m             batch_grad \u001b[38;5;241m=\u001b[39m \u001b[43mlayer\u001b[49m\u001b[38;5;241;43m.\u001b[39;49m\u001b[43mbackward\u001b[49m\u001b[43m(\u001b[49m\u001b[43mbatch_grad\u001b[49m\u001b[43m,\u001b[49m\u001b[43m \u001b[49m\u001b[43mlearning_rate\u001b[49m\u001b[43m)\u001b[49m\n\u001b[1;32m    457\u001b[0m     train_loss \u001b[38;5;241m+\u001b[39m\u001b[38;5;241m=\u001b[39m batch_loss\n\u001b[1;32m    459\u001b[0m train_loss \u001b[38;5;241m/\u001b[39m\u001b[38;5;241m=\u001b[39m \u001b[38;5;28mlen\u001b[39m(train_features)\n",
      "File \u001b[0;32m~/Desktop/testing/Bioinf_Project/Net.py:67\u001b[0m, in \u001b[0;36mDense.backward\u001b[0;34m(self, output_grad, learning_rate)\u001b[0m\n\u001b[1;32m     66\u001b[0m \u001b[38;5;28;01mdef\u001b[39;00m \u001b[38;5;21mbackward\u001b[39m(\u001b[38;5;28mself\u001b[39m, output_grad, learning_rate):\n\u001b[0;32m---> 67\u001b[0m \tweights_grad \u001b[38;5;241m=\u001b[39m \u001b[43mnp\u001b[49m\u001b[38;5;241;43m.\u001b[39;49m\u001b[43mdot\u001b[49m\u001b[43m(\u001b[49m\u001b[43moutput_grad\u001b[49m\u001b[43m,\u001b[49m\u001b[43m \u001b[49m\u001b[38;5;28;43mself\u001b[39;49m\u001b[38;5;241;43m.\u001b[39;49m\u001b[43minput\u001b[49m\u001b[43m)\u001b[49m\n\u001b[1;32m     68\u001b[0m \tinput_grad \u001b[38;5;241m=\u001b[39m np\u001b[38;5;241m.\u001b[39mdot(\u001b[38;5;28mself\u001b[39m\u001b[38;5;241m.\u001b[39mweights\u001b[38;5;241m.\u001b[39mT, output_grad)\n\u001b[1;32m     69\u001b[0m \t\u001b[38;5;66;03m# Now update weights and biases\u001b[39;00m\n",
      "File \u001b[0;32m<__array_function__ internals>:200\u001b[0m, in \u001b[0;36mdot\u001b[0;34m(*args, **kwargs)\u001b[0m\n",
      "\u001b[0;31mValueError\u001b[0m: shapes (1,100) and (8,) not aligned: 100 (dim 1) != 8 (dim 0)"
     ]
    }
   ],
   "source": [
    "import pandas as pd\n",
    "from Net import *\n",
    "dataset = pd.read_csv(\"data/filtered_sider.csv\")\n",
    "task = \"Hepatobiliary disorders\"\n",
    "network = [Mean_pooling(8),\n",
    "           GIN(8),\n",
    "           Sigmoid(),\n",
    "           GIN(8),\n",
    "           Sigmoid(),\n",
    "           GIN(8),\n",
    "           Sigmoid(),\n",
    "           GIN(8),\n",
    "           Sigmoid(),\n",
    "           GIN(8),\n",
    "           Sigmoid(),\n",
    "           GlobalMeanPooling(),\n",
    "           Dense(8,100),\n",
    "           Convolution((1,100),3,1),\n",
    "           BatchNorm(eps = 1e-5, momentum = 0.8, batch_size = 10),\n",
    "           ReLU(),\n",
    "           Convolution((1,98),3,1),\n",
    "           BatchNorm(eps = 1e-5, momentum = 0.8, batch_size = 10),\n",
    "           ReLU(),\n",
    "           Convolution((1,96),3,1),\n",
    "           BatchNorm(eps = 1e-5, momentum = 0.8, batch_size = 10),\n",
    "           ReLU(),\n",
    "           Dense(94,1),\n",
    "           Sigmoid()           \n",
    "]\n",
    "#Need to fix activation layers\n",
    "# Between the GIN layers, activation layers don't work\n",
    "# given that we have non homogenous inputs\n",
    "# and output grads apparently\n",
    "# Also the net doesn't learn\n",
    "# so need to fix that\n",
    "SGD(network, binary_cross_entropy, binary_cross_entropy_prime, dataset, task, epochs = 10,\n",
    "       learning_rate = 0.1, batch_size = 10, verbose = True)"
   ]
  }
 ],
 "metadata": {
  "kernelspec": {
   "display_name": "Python 3 (ipykernel)",
   "language": "python",
   "name": "python3"
  },
  "language_info": {
   "codemirror_mode": {
    "name": "ipython",
    "version": 3
   },
   "file_extension": ".py",
   "mimetype": "text/x-python",
   "name": "python",
   "nbconvert_exporter": "python",
   "pygments_lexer": "ipython3",
   "version": "3.10.13"
  }
 },
 "nbformat": 4,
 "nbformat_minor": 5
}

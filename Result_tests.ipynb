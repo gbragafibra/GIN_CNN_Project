{
 "cells": [
  {
   "cell_type": "code",
   "execution_count": 1,
   "id": "12c31628-ac7e-416f-84d6-c212a5aa46c2",
   "metadata": {},
   "outputs": [
    {
     "name": "stderr",
     "output_type": "stream",
     "text": [
      "[22:03:25] WARNING: not removing hydrogen atom without neighbors\n",
      "[22:03:25] WARNING: not removing hydrogen atom without neighbors\n",
      "[22:03:25] WARNING: not removing hydrogen atom without neighbors\n",
      "[22:03:25] WARNING: not removing hydrogen atom without neighbors\n",
      "[22:03:25] WARNING: not removing hydrogen atom without neighbors\n",
      "[22:03:25] WARNING: not removing hydrogen atom without neighbors\n",
      "[22:03:25] WARNING: not removing hydrogen atom without neighbors\n",
      "[22:03:25] WARNING: not removing hydrogen atom without neighbors\n",
      "[22:03:25] WARNING: not removing hydrogen atom without neighbors\n"
     ]
    },
    {
     "name": "stdout",
     "output_type": "stream",
     "text": [
      "Epoch 1/10, Training Loss = 0.07912482763161721, Training accuracy = 0.4782608695652174\n",
      "Epoch 2/10, Training Loss = 0.06939561629118797, Training accuracy = 0.5541165587419057\n",
      "Epoch 3/10, Training Loss = 0.06943032332740469, Training accuracy = 0.5531914893617021\n",
      "Epoch 4/10, Training Loss = 0.0694308788336852, Training accuracy = 0.5531914893617021\n",
      "Epoch 5/10, Training Loss = 0.06943130105269023, Training accuracy = 0.5531914893617021\n",
      "Epoch 6/10, Training Loss = 0.06943172877233714, Training accuracy = 0.5531914893617021\n",
      "Epoch 7/10, Training Loss = 0.06943216190350948, Training accuracy = 0.5531914893617021\n",
      "Epoch 8/10, Training Loss = 0.06943259538893436, Training accuracy = 0.5531914893617021\n",
      "Epoch 9/10, Training Loss = 0.06943303129758102, Training accuracy = 0.5531914893617021\n",
      "Epoch 10/10, Training Loss = 0.06943346897522412, Training accuracy = 0.5531914893617021\n",
      "Test Loss: 0.6910252848655117, Test accuracy: 0.5407407407407407\n",
      "Evaluation Loss: 0.7113197244857427, Evaluation accuracy: 0.4632352941176471\n"
     ]
    }
   ],
   "source": [
    "import pandas as pd\n",
    "from Net import *\n",
    "dataset = pd.read_csv(\"data/filtered_sider.csv\")\n",
    "task = \"Hepatobiliary disorders\"\n",
    "network = [Mean_pooling(8),\n",
    "           GIN(8),\n",
    "           Convolution((1,8),3,1),\n",
    "           BatchNorm(eps = 1e-5, momentum = 0.8, batch_size = 10),\n",
    "           ReLU(),\n",
    "           Convolution((1,6),3,1),\n",
    "           BatchNorm(eps = 1e-5, momentum = 0.8, batch_size = 10),\n",
    "           ReLU(),\n",
    "           Convolution((1,4),3,1),\n",
    "           BatchNorm(eps = 1e-5, momentum = 0.8, batch_size = 10),\n",
    "           ReLU(),\n",
    "           Dense(2,1),\n",
    "           Sigmoid()           \n",
    "]\n",
    "#Need to fix activation layers\n",
    "# Between the GIN layers, activation layers don't work\n",
    "# given that we have non homogenous inputs\n",
    "# and output grads apparently\n",
    "# Also the net doesn't learn\n",
    "# so need to fix that\n",
    "SGD(network, binary_cross_entropy, binary_cross_entropy_prime, dataset, task, epochs = 10,\n",
    "       learning_rate = 0.1, batch_size = 10, verbose = True)"
   ]
  }
 ],
 "metadata": {
  "kernelspec": {
   "display_name": "Python 3 (ipykernel)",
   "language": "python",
   "name": "python3"
  },
  "language_info": {
   "codemirror_mode": {
    "name": "ipython",
    "version": 3
   },
   "file_extension": ".py",
   "mimetype": "text/x-python",
   "name": "python",
   "nbconvert_exporter": "python",
   "pygments_lexer": "ipython3",
   "version": "3.10.13"
  }
 },
 "nbformat": 4,
 "nbformat_minor": 5
}

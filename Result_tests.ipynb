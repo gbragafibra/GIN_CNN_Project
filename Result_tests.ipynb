{
 "cells": [
  {
   "cell_type": "code",
   "execution_count": 4,
   "id": "12c31628-ac7e-416f-84d6-c212a5aa46c2",
   "metadata": {},
   "outputs": [
    {
     "name": "stderr",
     "output_type": "stream",
     "text": [
      "[09:43:08] WARNING: not removing hydrogen atom without neighbors\n",
      "[09:43:08] WARNING: not removing hydrogen atom without neighbors\n",
      "[09:43:08] WARNING: not removing hydrogen atom without neighbors\n",
      "[09:43:08] WARNING: not removing hydrogen atom without neighbors\n",
      "[09:43:08] WARNING: not removing hydrogen atom without neighbors\n",
      "[09:43:08] WARNING: not removing hydrogen atom without neighbors\n",
      "[09:43:08] WARNING: not removing hydrogen atom without neighbors\n",
      "[09:43:08] WARNING: not removing hydrogen atom without neighbors\n",
      "[09:43:08] WARNING: not removing hydrogen atom without neighbors\n"
     ]
    },
    {
     "name": "stdout",
     "output_type": "stream",
     "text": [
      "Epoch 1/50, Training Loss = 0.6611220286491184, Training accuracy = 0.6638477801268499\n",
      "Epoch 2/50, Training Loss = 0.6168055575707357, Training accuracy = 0.7019027484143763\n",
      "Epoch 3/50, Training Loss = 0.6171593950907875, Training accuracy = 0.7019027484143763\n",
      "Epoch 4/50, Training Loss = 0.617128051544372, Training accuracy = 0.7019027484143763\n",
      "Epoch 5/50, Training Loss = 0.6170895032511327, Training accuracy = 0.7019027484143763\n",
      "Epoch 6/50, Training Loss = 0.617057259410645, Training accuracy = 0.7019027484143763\n",
      "Epoch 7/50, Training Loss = 0.6170110721245912, Training accuracy = 0.7019027484143763\n",
      "Epoch 8/50, Training Loss = 0.6168051461270143, Training accuracy = 0.7019027484143763\n",
      "Epoch 9/50, Training Loss = 0.6167838213928616, Training accuracy = 0.7019027484143763\n",
      "Epoch 10/50, Training Loss = 0.6167555578612672, Training accuracy = 0.7019027484143763\n",
      "Epoch 11/50, Training Loss = 0.6166980296186516, Training accuracy = 0.7019027484143763\n",
      "Epoch 12/50, Training Loss = 0.6166579702836182, Training accuracy = 0.7019027484143763\n",
      "Epoch 13/50, Training Loss = 0.6166346467875912, Training accuracy = 0.7019027484143763\n",
      "Epoch 14/50, Training Loss = 0.6165263243725543, Training accuracy = 0.7019027484143763\n",
      "Epoch 15/50, Training Loss = 0.6164363712324166, Training accuracy = 0.7019027484143763\n",
      "Epoch 16/50, Training Loss = 0.616351792503373, Training accuracy = 0.7019027484143763\n",
      "Epoch 17/50, Training Loss = 0.6162904434612451, Training accuracy = 0.7019027484143763\n",
      "Epoch 18/50, Training Loss = 0.6162324482715681, Training accuracy = 0.7019027484143763\n",
      "Epoch 19/50, Training Loss = 0.6162082413446638, Training accuracy = 0.7019027484143763\n",
      "Epoch 20/50, Training Loss = 0.6161702838117615, Training accuracy = 0.7019027484143763\n",
      "Epoch 21/50, Training Loss = 0.6161262017347592, Training accuracy = 0.7019027484143763\n",
      "Epoch 22/50, Training Loss = 0.6160628612745596, Training accuracy = 0.7019027484143763\n",
      "Epoch 23/50, Training Loss = 0.6160219006193611, Training accuracy = 0.7019027484143763\n",
      "Epoch 24/50, Training Loss = 0.6159918570208905, Training accuracy = 0.7019027484143763\n",
      "Epoch 25/50, Training Loss = 0.6159626679728283, Training accuracy = 0.7019027484143763\n",
      "Epoch 26/50, Training Loss = 0.6159296205499706, Training accuracy = 0.7019027484143763\n",
      "Epoch 27/50, Training Loss = 0.6158779238141284, Training accuracy = 0.7019027484143763\n",
      "Epoch 28/50, Training Loss = 0.6158414074959955, Training accuracy = 0.7019027484143763\n",
      "Epoch 29/50, Training Loss = 0.6158155229328981, Training accuracy = 0.7019027484143763\n",
      "Epoch 30/50, Training Loss = 0.6157880686396137, Training accuracy = 0.7019027484143763\n",
      "Epoch 31/50, Training Loss = 0.6157461995549549, Training accuracy = 0.7019027484143763\n",
      "Epoch 32/50, Training Loss = 0.6157112759568826, Training accuracy = 0.7019027484143763\n",
      "Epoch 33/50, Training Loss = 0.6156865402351264, Training accuracy = 0.7019027484143763\n",
      "Epoch 34/50, Training Loss = 0.6156150524095785, Training accuracy = 0.7019027484143763\n",
      "Epoch 35/50, Training Loss = 0.6155499796535725, Training accuracy = 0.7019027484143763\n",
      "Epoch 36/50, Training Loss = 0.6155200050435131, Training accuracy = 0.7019027484143763\n",
      "Epoch 37/50, Training Loss = 0.6154978565440041, Training accuracy = 0.7019027484143763\n",
      "Epoch 38/50, Training Loss = 0.6154734510810567, Training accuracy = 0.7019027484143763\n",
      "Epoch 39/50, Training Loss = 0.6154461388385667, Training accuracy = 0.7019027484143763\n",
      "Epoch 40/50, Training Loss = 0.6154176226438146, Training accuracy = 0.7019027484143763\n",
      "Epoch 41/50, Training Loss = 0.6153779944300568, Training accuracy = 0.7019027484143763\n",
      "Epoch 42/50, Training Loss = 0.6152965387675077, Training accuracy = 0.7019027484143763\n",
      "Epoch 43/50, Training Loss = 0.6152561323685667, Training accuracy = 0.7019027484143763\n",
      "Epoch 44/50, Training Loss = 0.6152282118003759, Training accuracy = 0.7019027484143763\n",
      "Epoch 45/50, Training Loss = 0.6152004733971983, Training accuracy = 0.7019027484143763\n",
      "Epoch 46/50, Training Loss = 0.6151730353758482, Training accuracy = 0.7019027484143763\n",
      "Epoch 47/50, Training Loss = 0.6151449407478032, Training accuracy = 0.7019027484143763\n",
      "Epoch 48/50, Training Loss = 0.6151171854050047, Training accuracy = 0.7019027484143763\n",
      "Epoch 49/50, Training Loss = 0.6150921588802637, Training accuracy = 0.7019027484143763\n",
      "Epoch 50/50, Training Loss = 0.6150691171779467, Training accuracy = 0.7019027484143763\n",
      "Test Loss: 0.5537413629690325, Test accuracy: 0.7586206896551724\n",
      "Evaluation Loss: 0.635528364112368, Evaluation accuracy: 0.6798029556650246\n"
     ]
    },
    {
     "data": {
      "image/png": "[encoded data removed]",
      "text/plain": [
       "<Figure size 640x480 with 1 Axes>"
      ]
     },
     "metadata": {},
     "output_type": "display_data"
    }
   ],
   "source": [
    "import pandas as pd\n",
    "from Net import *\n",
    "dataset = pd.read_csv(\"data/filtered_sider.csv\")\n",
    "#task = \"Hepatobiliary disorders\"\n",
    "task = \"Metabolism and nutrition disorders\"\n",
    "#task = \"Pregnancy puerperium and perinatal conditions\"\n",
    "#task = \"Renal and urinary disorders\"\n",
    "#task = \"Injury poisoning and procedural complications\"\n",
    "#task = \"Product issues\"\n",
    "#task = \"Reproductive system and breast disorders\"\n",
    "network = [Sum_pooling(8),\n",
    "           GIN(8),\n",
    "           Sigmoid(),\n",
    "           GIN(8),\n",
    "           Sigmoid(),\n",
    "           GIN(8),\n",
    "           Sigmoid(),\n",
    "           GIN(8),\n",
    "           Sigmoid(),\n",
    "           GIN(8),\n",
    "           Sigmoid(),\n",
    "           GlobalMeanPooling(),\n",
    "           Dense(8,100),\n",
    "           Convolution(100,3),\n",
    "           BatchNorm(eps = 1e-5, momentum = 0.8, batch_size = 32),\n",
    "           ReLU(),\n",
    "           Convolution(98,3),\n",
    "           BatchNorm(eps = 1e-5, momentum = 0.8, batch_size = 32),\n",
    "           ReLU(),\n",
    "           Convolution(96,3),\n",
    "           BatchNorm(eps = 1e-5, momentum = 0.8, batch_size = 32),\n",
    "           ReLU(),\n",
    "           Dense(94,1),\n",
    "           Sigmoid()           \n",
    "]\n",
    "\n",
    "\n",
    "MBGD(network, binary_cross_entropy, binary_cross_entropy_prime, dataset, task, epochs = 50,\n",
    "       learning_rate = 0.05, batch_size = 32, verbose = True)"
   ]
  }
 ],
 "metadata": {
  "kernelspec": {
   "display_name": "Python 3 (ipykernel)",
   "language": "python",
   "name": "python3"
  },
  "language_info": {
   "codemirror_mode": {
    "name": "ipython",
    "version": 3
   },
   "file_extension": ".py",
   "mimetype": "text/x-python",
   "name": "python",
   "nbconvert_exporter": "python",
   "pygments_lexer": "ipython3",
   "version": "3.10.13"
  }
 },
 "nbformat": 4,
 "nbformat_minor": 5
}

{
 "cells": [
  {
   "cell_type": "code",
   "execution_count": 1,
   "id": "12c31628-ac7e-416f-84d6-c212a5aa46c2",
   "metadata": {},
   "outputs": [
    {
     "name": "stderr",
     "output_type": "stream",
     "text": [
      "[19:52:24] WARNING: not removing hydrogen atom without neighbors\n",
      "[19:52:24] WARNING: not removing hydrogen atom without neighbors\n",
      "[19:52:24] WARNING: not removing hydrogen atom without neighbors\n",
      "[19:52:24] WARNING: not removing hydrogen atom without neighbors\n",
      "[19:52:24] WARNING: not removing hydrogen atom without neighbors\n",
      "[19:52:24] WARNING: not removing hydrogen atom without neighbors\n",
      "[19:52:24] WARNING: not removing hydrogen atom without neighbors\n",
      "[19:52:24] WARNING: not removing hydrogen atom without neighbors\n",
      "[19:52:24] WARNING: not removing hydrogen atom without neighbors\n"
     ]
    },
    {
     "name": "stdout",
     "output_type": "stream",
     "text": [
      "Epoch 1/10, Training Loss = 0.6125868060861064, Training accuracy = 0.7150786308973173\n",
      "Epoch 2/10, Training Loss = 0.60535562368988, Training accuracy = 0.7150786308973173\n",
      "Epoch 3/10, Training Loss = 0.6060275821103928, Training accuracy = 0.7150786308973173\n",
      "Epoch 4/10, Training Loss = 0.6059048700219052, Training accuracy = 0.7150786308973173\n",
      "Epoch 5/10, Training Loss = 0.6057952447439766, Training accuracy = 0.7150786308973173\n",
      "Epoch 6/10, Training Loss = 0.606001320472028, Training accuracy = 0.7150786308973173\n",
      "Epoch 7/10, Training Loss = 0.6063175154048454, Training accuracy = 0.7150786308973173\n",
      "Epoch 8/10, Training Loss = 0.6066871982163283, Training accuracy = 0.7150786308973173\n",
      "Epoch 9/10, Training Loss = 0.6071887040985935, Training accuracy = 0.7150786308973173\n",
      "Epoch 10/10, Training Loss = 0.6078044883159442, Training accuracy = 0.7150786308973173\n",
      "Test Loss: 0.6276870747614947, Test accuracy: 0.7037037037037037\n",
      "Evaluation Loss: 0.702337825922751, Evaluation accuracy: 0.6470588235294118\n"
     ]
    }
   ],
   "source": [
    "import pandas as pd\n",
    "from Net import *\n",
    "dataset = pd.read_csv(\"data/filtered_sider.csv\")\n",
    "#task = \"Hepatobiliary disorders\"\n",
    "task = \"Metabolism and nutrition disorders\"\n",
    "network = [Sum_pooling(8),\n",
    "           GIN(8),\n",
    "           Sigmoid(),\n",
    "           GIN(8),\n",
    "           Sigmoid(),\n",
    "           GIN(8),\n",
    "           Sigmoid(),\n",
    "           GIN(8),\n",
    "           Sigmoid(),\n",
    "           GIN(8),\n",
    "           Sigmoid(),\n",
    "           GlobalMeanPooling(),\n",
    "           Dense(8,100),\n",
    "           Convolution(100,3),\n",
    "           BatchNorm(eps = 1e-5, momentum = 0.5, batch_size = 32),\n",
    "           ReLU(),\n",
    "           Convolution(98,3),\n",
    "           BatchNorm(eps = 1e-5, momentum = 0.5, batch_size = 32),\n",
    "           ReLU(),\n",
    "           Convolution(96,3),\n",
    "           BatchNorm(eps = 1e-5, momentum = 0.5, batch_size = 32),\n",
    "           ReLU(),\n",
    "           Dense(94,1),\n",
    "           Sigmoid()           \n",
    "]\n",
    "\n",
    "\n",
    "SGD(network, binary_cross_entropy, binary_cross_entropy_prime, dataset, task, epochs = 10,\n",
    "       learning_rate = 0.05, batch_size = 32, verbose = True)"
   ]
  }
 ],
 "metadata": {
  "kernelspec": {
   "display_name": "Python 3 (ipykernel)",
   "language": "python",
   "name": "python3"
  },
  "language_info": {
   "codemirror_mode": {
    "name": "ipython",
    "version": 3
   },
   "file_extension": ".py",
   "mimetype": "text/x-python",
   "name": "python",
   "nbconvert_exporter": "python",
   "pygments_lexer": "ipython3",
   "version": "3.10.13"
  }
 },
 "nbformat": 4,
 "nbformat_minor": 5
}

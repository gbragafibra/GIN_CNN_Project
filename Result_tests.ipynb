{
 "cells": [
  {
   "cell_type": "code",
   "execution_count": 7,
   "id": "12c31628-ac7e-416f-84d6-c212a5aa46c2",
   "metadata": {},
   "outputs": [
    {
     "name": "stderr",
     "output_type": "stream",
     "text": [
      "[19:31:21] WARNING: not removing hydrogen atom without neighbors\n",
      "[19:31:21] WARNING: not removing hydrogen atom without neighbors\n",
      "[19:31:21] WARNING: not removing hydrogen atom without neighbors\n",
      "[19:31:21] WARNING: not removing hydrogen atom without neighbors\n",
      "[19:31:21] WARNING: not removing hydrogen atom without neighbors\n",
      "[19:31:21] WARNING: not removing hydrogen atom without neighbors\n",
      "[19:31:21] WARNING: not removing hydrogen atom without neighbors\n",
      "[19:31:21] WARNING: not removing hydrogen atom without neighbors\n",
      "[19:31:21] WARNING: not removing hydrogen atom without neighbors\n",
      "/home/fibra/anaconda3/lib/python3.10/site-packages/numpy/core/_methods.py:239: RuntimeWarning: overflow encountered in multiply\n",
      "  x = um.multiply(x, x, out=x)\n"
     ]
    },
    {
     "name": "stdout",
     "output_type": "stream",
     "text": [
      "Epoch 1/50, Training Loss = 0.07991681666336445\n",
      "Epoch 2/50, Training Loss = 0.06950602702499567\n",
      "Epoch 3/50, Training Loss = 0.06950632674697405\n",
      "Epoch 4/50, Training Loss = 0.0695065952278361\n",
      "Epoch 5/50, Training Loss = 0.06950686428694515\n",
      "Epoch 6/50, Training Loss = 0.06950713578680519\n",
      "Epoch 7/50, Training Loss = 0.0695074088552963\n",
      "Epoch 8/50, Training Loss = 0.06950768478378944\n",
      "Epoch 9/50, Training Loss = 0.06950796228686373\n",
      "Epoch 10/50, Training Loss = 0.06950824161228239\n",
      "Epoch 11/50, Training Loss = 0.06950852311382869\n",
      "Epoch 12/50, Training Loss = 0.06950880654937336\n",
      "Epoch 13/50, Training Loss = 0.06950909187910452\n",
      "Epoch 14/50, Training Loss = 0.06950937916585734\n",
      "Epoch 15/50, Training Loss = 0.06950966838198282\n",
      "Epoch 16/50, Training Loss = 0.06950995962952289\n",
      "Epoch 17/50, Training Loss = 0.0695102528970542\n"
     ]
    },
    {
     "name": "stderr",
     "output_type": "stream",
     "text": [
      "/home/fibra/anaconda3/lib/python3.10/site-packages/numpy/core/_methods.py:250: RuntimeWarning: overflow encountered in reduce\n",
      "  ret = umr_sum(x, axis, dtype, out, keepdims=keepdims, where=where)\n"
     ]
    },
    {
     "name": "stdout",
     "output_type": "stream",
     "text": [
      "Epoch 18/50, Training Loss = 0.06951054826529537\n",
      "Epoch 19/50, Training Loss = 0.06951084567945992\n",
      "Epoch 20/50, Training Loss = 0.06951114517334962\n",
      "Epoch 21/50, Training Loss = 0.06951144680773981\n",
      "Epoch 22/50, Training Loss = 0.06951175060269761\n",
      "Epoch 23/50, Training Loss = 0.06951205648482624\n",
      "Epoch 24/50, Training Loss = 0.06951236448235103\n",
      "Epoch 25/50, Training Loss = 0.06951267465071467\n",
      "Epoch 26/50, Training Loss = 0.06951298696120745\n",
      "Epoch 27/50, Training Loss = 0.06951330151057711\n",
      "Epoch 28/50, Training Loss = 0.06951361829933946\n",
      "Epoch 29/50, Training Loss = 0.06951393737145879\n"
     ]
    },
    {
     "ename": "KeyboardInterrupt",
     "evalue": "",
     "output_type": "error",
     "traceback": [
      "\u001b[0;31m---------------------------------------------------------------------------\u001b[0m",
      "\u001b[0;31mKeyboardInterrupt\u001b[0m                         Traceback (most recent call last)",
      "Cell \u001b[0;32mIn[7], line 29\u001b[0m\n\u001b[1;32m      5\u001b[0m network \u001b[38;5;241m=\u001b[39m [Mean_pooling(\u001b[38;5;241m8\u001b[39m),\n\u001b[1;32m      6\u001b[0m            GIN(\u001b[38;5;241m8\u001b[39m),\n\u001b[1;32m      7\u001b[0m            GIN(\u001b[38;5;241m8\u001b[39m),\n\u001b[0;32m   (...)\u001b[0m\n\u001b[1;32m     21\u001b[0m            Sigmoid()           \n\u001b[1;32m     22\u001b[0m ]\n\u001b[1;32m     23\u001b[0m \u001b[38;5;66;03m#Need to fix activation layers\u001b[39;00m\n\u001b[1;32m     24\u001b[0m \u001b[38;5;66;03m# Between the GIN layers, activation layers don't work\u001b[39;00m\n\u001b[1;32m     25\u001b[0m \u001b[38;5;66;03m# given that we have non homogenous inputs\u001b[39;00m\n\u001b[1;32m     26\u001b[0m \u001b[38;5;66;03m# and output grads apparently\u001b[39;00m\n\u001b[1;32m     27\u001b[0m \u001b[38;5;66;03m# Also the net doesn't learn\u001b[39;00m\n\u001b[1;32m     28\u001b[0m \u001b[38;5;66;03m# so need to fix that\u001b[39;00m\n\u001b[0;32m---> 29\u001b[0m \u001b[43mSGD\u001b[49m\u001b[43m(\u001b[49m\u001b[43mnetwork\u001b[49m\u001b[43m,\u001b[49m\u001b[43m \u001b[49m\u001b[43mbinary_cross_entropy\u001b[49m\u001b[43m,\u001b[49m\u001b[43m \u001b[49m\u001b[43mbinary_cross_entropy_prime\u001b[49m\u001b[43m,\u001b[49m\u001b[43m \u001b[49m\u001b[43mdataset\u001b[49m\u001b[43m,\u001b[49m\u001b[43m \u001b[49m\u001b[43mtask\u001b[49m\u001b[43m,\u001b[49m\u001b[43m \u001b[49m\u001b[43mepochs\u001b[49m\u001b[43m \u001b[49m\u001b[38;5;241;43m=\u001b[39;49m\u001b[43m \u001b[49m\u001b[38;5;241;43m50\u001b[39;49m\u001b[43m,\u001b[49m\n\u001b[1;32m     30\u001b[0m \u001b[43m       \u001b[49m\u001b[43mlearning_rate\u001b[49m\u001b[43m \u001b[49m\u001b[38;5;241;43m=\u001b[39;49m\u001b[43m \u001b[49m\u001b[38;5;241;43m0.1\u001b[39;49m\u001b[43m,\u001b[49m\u001b[43m \u001b[49m\u001b[43mbatch_size\u001b[49m\u001b[43m \u001b[49m\u001b[38;5;241;43m=\u001b[39;49m\u001b[43m \u001b[49m\u001b[38;5;241;43m10\u001b[39;49m\u001b[43m,\u001b[49m\u001b[43m \u001b[49m\u001b[43mverbose\u001b[49m\u001b[43m \u001b[49m\u001b[38;5;241;43m=\u001b[39;49m\u001b[43m \u001b[49m\u001b[38;5;28;43;01mTrue\u001b[39;49;00m\u001b[43m)\u001b[49m\n",
      "File \u001b[0;32m~/Desktop/testing/Bioinf_Project/Net.py:405\u001b[0m, in \u001b[0;36mSGD\u001b[0;34m(network, loss, loss_prime, dataset, task, epochs, learning_rate, batch_size, verbose)\u001b[0m\n\u001b[1;32m    402\u001b[0m batch_loss \u001b[38;5;241m=\u001b[39m \u001b[38;5;241m0\u001b[39m\n\u001b[1;32m    403\u001b[0m \u001b[38;5;28;01mfor\u001b[39;00m x, y \u001b[38;5;129;01min\u001b[39;00m \u001b[38;5;28mzip\u001b[39m(x_batch, y_batch):\n\u001b[1;32m    404\u001b[0m     \u001b[38;5;66;03m# Do forward pass\u001b[39;00m\n\u001b[0;32m--> 405\u001b[0m     output \u001b[38;5;241m=\u001b[39m \u001b[43mpredict\u001b[49m\u001b[43m(\u001b[49m\u001b[43mnetwork\u001b[49m\u001b[43m,\u001b[49m\u001b[43m \u001b[49m\u001b[43mx\u001b[49m\u001b[43m)\u001b[49m\n\u001b[1;32m    406\u001b[0m     batch_loss \u001b[38;5;241m+\u001b[39m\u001b[38;5;241m=\u001b[39m loss(y, output) \u001b[38;5;241m/\u001b[39m \u001b[38;5;28mlen\u001b[39m(x_batch)\n\u001b[1;32m    408\u001b[0m     \u001b[38;5;66;03m# Do backward pass\u001b[39;00m\n",
      "File \u001b[0;32m~/Desktop/testing/Bioinf_Project/Net.py:380\u001b[0m, in \u001b[0;36mpredict\u001b[0;34m(network, input)\u001b[0m\n\u001b[1;32m    378\u001b[0m output \u001b[38;5;241m=\u001b[39m \u001b[38;5;28minput\u001b[39m \n\u001b[1;32m    379\u001b[0m \u001b[38;5;28;01mfor\u001b[39;00m layer \u001b[38;5;129;01min\u001b[39;00m network:\n\u001b[0;32m--> 380\u001b[0m \toutput \u001b[38;5;241m=\u001b[39m \u001b[43mlayer\u001b[49m\u001b[38;5;241;43m.\u001b[39;49m\u001b[43mforward\u001b[49m\u001b[43m(\u001b[49m\u001b[43moutput\u001b[49m\u001b[43m)\u001b[49m\n\u001b[1;32m    382\u001b[0m \u001b[38;5;28;01mreturn\u001b[39;00m output\n",
      "File \u001b[0;32m~/Desktop/testing/Bioinf_Project/Net.py:256\u001b[0m, in \u001b[0;36mMean_pooling.forward\u001b[0;34m(self, features)\u001b[0m\n\u001b[1;32m    252\u001b[0m \t\u001b[38;5;28;01mfor\u001b[39;00m j \u001b[38;5;129;01min\u001b[39;00m \u001b[38;5;28mrange\u001b[39m(\u001b[38;5;28mself\u001b[39m\u001b[38;5;241m.\u001b[39msize):\n\u001b[1;32m    253\u001b[0m \t\tsub_A \u001b[38;5;241m=\u001b[39m A[i \u001b[38;5;241m*\u001b[39m strides[i]: (i \u001b[38;5;241m+\u001b[39m \u001b[38;5;241m1\u001b[39m) \u001b[38;5;241m*\u001b[39m strides[i],\n\u001b[1;32m    254\u001b[0m \t\tj \u001b[38;5;241m*\u001b[39m strides[j]: (j \u001b[38;5;241m+\u001b[39m \u001b[38;5;241m1\u001b[39m) \u001b[38;5;241m*\u001b[39m strides[j]]\n\u001b[0;32m--> 256\u001b[0m \t\tpooled_A[i,j] \u001b[38;5;241m=\u001b[39m \u001b[43mnp\u001b[49m\u001b[38;5;241;43m.\u001b[39;49m\u001b[43mmean\u001b[49m\u001b[43m(\u001b[49m\u001b[43msub_A\u001b[49m\u001b[43m)\u001b[49m\n\u001b[1;32m    258\u001b[0m \u001b[38;5;28;01mreturn\u001b[39;00m pooled_H, pooled_A\n",
      "File \u001b[0;32m<__array_function__ internals>:200\u001b[0m, in \u001b[0;36mmean\u001b[0;34m(*args, **kwargs)\u001b[0m\n",
      "File \u001b[0;32m~/anaconda3/lib/python3.10/site-packages/numpy/core/fromnumeric.py:3464\u001b[0m, in \u001b[0;36mmean\u001b[0;34m(a, axis, dtype, out, keepdims, where)\u001b[0m\n\u001b[1;32m   3461\u001b[0m     \u001b[38;5;28;01melse\u001b[39;00m:\n\u001b[1;32m   3462\u001b[0m         \u001b[38;5;28;01mreturn\u001b[39;00m mean(axis\u001b[38;5;241m=\u001b[39maxis, dtype\u001b[38;5;241m=\u001b[39mdtype, out\u001b[38;5;241m=\u001b[39mout, \u001b[38;5;241m*\u001b[39m\u001b[38;5;241m*\u001b[39mkwargs)\n\u001b[0;32m-> 3464\u001b[0m \u001b[38;5;28;01mreturn\u001b[39;00m \u001b[43m_methods\u001b[49m\u001b[38;5;241;43m.\u001b[39;49m\u001b[43m_mean\u001b[49m\u001b[43m(\u001b[49m\u001b[43ma\u001b[49m\u001b[43m,\u001b[49m\u001b[43m \u001b[49m\u001b[43maxis\u001b[49m\u001b[38;5;241;43m=\u001b[39;49m\u001b[43maxis\u001b[49m\u001b[43m,\u001b[49m\u001b[43m \u001b[49m\u001b[43mdtype\u001b[49m\u001b[38;5;241;43m=\u001b[39;49m\u001b[43mdtype\u001b[49m\u001b[43m,\u001b[49m\n\u001b[1;32m   3465\u001b[0m \u001b[43m                      \u001b[49m\u001b[43mout\u001b[49m\u001b[38;5;241;43m=\u001b[39;49m\u001b[43mout\u001b[49m\u001b[43m,\u001b[49m\u001b[43m \u001b[49m\u001b[38;5;241;43m*\u001b[39;49m\u001b[38;5;241;43m*\u001b[39;49m\u001b[43mkwargs\u001b[49m\u001b[43m)\u001b[49m\n",
      "File \u001b[0;32m~/anaconda3/lib/python3.10/site-packages/numpy/core/_methods.py:175\u001b[0m, in \u001b[0;36m_mean\u001b[0;34m(a, axis, dtype, out, keepdims, where)\u001b[0m\n\u001b[1;32m    173\u001b[0m \u001b[38;5;66;03m# Cast bool, unsigned int, and int to float64 by default\u001b[39;00m\n\u001b[1;32m    174\u001b[0m \u001b[38;5;28;01mif\u001b[39;00m dtype \u001b[38;5;129;01mis\u001b[39;00m \u001b[38;5;28;01mNone\u001b[39;00m:\n\u001b[0;32m--> 175\u001b[0m     \u001b[38;5;28;01mif\u001b[39;00m \u001b[38;5;28;43missubclass\u001b[39;49m\u001b[43m(\u001b[49m\u001b[43marr\u001b[49m\u001b[38;5;241;43m.\u001b[39;49m\u001b[43mdtype\u001b[49m\u001b[38;5;241;43m.\u001b[39;49m\u001b[43mtype\u001b[49m\u001b[43m,\u001b[49m\u001b[43m \u001b[49m\u001b[43m(\u001b[49m\u001b[43mnt\u001b[49m\u001b[38;5;241;43m.\u001b[39;49m\u001b[43minteger\u001b[49m\u001b[43m,\u001b[49m\u001b[43m \u001b[49m\u001b[43mnt\u001b[49m\u001b[38;5;241;43m.\u001b[39;49m\u001b[43mbool_\u001b[49m\u001b[43m)\u001b[49m\u001b[43m)\u001b[49m:\n\u001b[1;32m    176\u001b[0m         dtype \u001b[38;5;241m=\u001b[39m mu\u001b[38;5;241m.\u001b[39mdtype(\u001b[38;5;124m'\u001b[39m\u001b[38;5;124mf8\u001b[39m\u001b[38;5;124m'\u001b[39m)\n\u001b[1;32m    177\u001b[0m     \u001b[38;5;28;01melif\u001b[39;00m \u001b[38;5;28missubclass\u001b[39m(arr\u001b[38;5;241m.\u001b[39mdtype\u001b[38;5;241m.\u001b[39mtype, nt\u001b[38;5;241m.\u001b[39mfloat16):\n",
      "\u001b[0;31mKeyboardInterrupt\u001b[0m: "
     ]
    }
   ],
   "source": [
    "import pandas as pd\n",
    "from Net import *\n",
    "dataset = pd.read_csv(\"data/filtered_sider.csv\")\n",
    "task = \"Hepatobiliary disorders\"\n",
    "network = [Mean_pooling(8),\n",
    "           GIN(8),\n",
    "           Sigmoid(),\n",
    "           GIN(8),\n",
    "           Sigmoid(),\n",
    "           GIN(8),\n",
    "           Sigmoid(),\n",
    "           GIN(8),\n",
    "           Sigmoid(),\n",
    "           GIN(8),\n",
    "           Sigmoid(),\n",
    "           Convolution((1,8),3,1),\n",
    "           BatchNorm(eps = 1e-5, momentum = 0.8, batch_size = 10),\n",
    "           ReLU(),\n",
    "           Convolution((1,6),3,1),\n",
    "           BatchNorm(eps = 1e-5, momentum = 0.8, batch_size = 10),\n",
    "           ReLU(),\n",
    "           Convolution((1,4),3,1),\n",
    "           BatchNorm(eps = 1e-5, momentum = 0.8, batch_size = 10),\n",
    "           ReLU(),\n",
    "           Dense(2,1),\n",
    "           Sigmoid()           \n",
    "]\n",
    "#Need to fix activation layers\n",
    "# Between the GIN layers, activation layers don't work\n",
    "# given that we have non homogenous inputs\n",
    "# and output grads apparently\n",
    "# Also the net doesn't learn\n",
    "# so need to fix that\n",
    "SGD(network, binary_cross_entropy, binary_cross_entropy_prime, dataset, task, epochs = 50,\n",
    "       learning_rate = 0.1, batch_size = 10, verbose = True)"
   ]
  }
 ],
 "metadata": {
  "kernelspec": {
   "display_name": "Python 3 (ipykernel)",
   "language": "python",
   "name": "python3"
  },
  "language_info": {
   "codemirror_mode": {
    "name": "ipython",
    "version": 3
   },
   "file_extension": ".py",
   "mimetype": "text/x-python",
   "name": "python",
   "nbconvert_exporter": "python",
   "pygments_lexer": "ipython3",
   "version": "3.10.13"
  }
 },
 "nbformat": 4,
 "nbformat_minor": 5
}

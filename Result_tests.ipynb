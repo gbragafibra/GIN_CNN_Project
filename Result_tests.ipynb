{
 "cells": [
  {
   "cell_type": "code",
   "execution_count": null,
   "id": "12c31628-ac7e-416f-84d6-c212a5aa46c2",
   "metadata": {},
   "outputs": [
    {
     "name": "stderr",
     "output_type": "stream",
     "text": [
      "[11:02:21] WARNING: not removing hydrogen atom without neighbors\n",
      "[11:02:21] WARNING: not removing hydrogen atom without neighbors\n",
      "[11:02:21] WARNING: not removing hydrogen atom without neighbors\n",
      "[11:02:21] WARNING: not removing hydrogen atom without neighbors\n",
      "[11:02:21] WARNING: not removing hydrogen atom without neighbors\n",
      "[11:02:21] WARNING: not removing hydrogen atom without neighbors\n",
      "[11:02:21] WARNING: not removing hydrogen atom without neighbors\n",
      "[11:02:21] WARNING: not removing hydrogen atom without neighbors\n",
      "[11:02:21] WARNING: not removing hydrogen atom without neighbors\n"
     ]
    },
    {
     "name": "stdout",
     "output_type": "stream",
     "text": [
      "Epoch 1/50, Training Loss = 0.617427835482466, Training accuracy = 0.6910268270120259\n",
      "Epoch 2/50, Training Loss = 0.6152825487376566, Training accuracy = 0.700277520814061\n",
      "Epoch 3/50, Training Loss = 0.6151490595054703, Training accuracy = 0.700277520814061\n",
      "Epoch 4/50, Training Loss = 0.61502663440693, Training accuracy = 0.700277520814061\n",
      "Epoch 5/50, Training Loss = 0.6150100137016496, Training accuracy = 0.700277520814061\n",
      "Epoch 6/50, Training Loss = 0.614937421142002, Training accuracy = 0.700277520814061\n",
      "Epoch 7/50, Training Loss = 0.6148445861749171, Training accuracy = 0.700277520814061\n",
      "Epoch 8/50, Training Loss = 0.6147677492687658, Training accuracy = 0.700277520814061\n",
      "Epoch 9/50, Training Loss = 0.6146283747255634, Training accuracy = 0.700277520814061\n",
      "Epoch 10/50, Training Loss = 0.6145062462061885, Training accuracy = 0.700277520814061\n",
      "Epoch 11/50, Training Loss = 0.6144180133740009, Training accuracy = 0.700277520814061\n",
      "Epoch 12/50, Training Loss = 0.614329312960672, Training accuracy = 0.700277520814061\n",
      "Epoch 13/50, Training Loss = 0.6142374184086207, Training accuracy = 0.700277520814061\n",
      "Epoch 14/50, Training Loss = 0.6141735373212016, Training accuracy = 0.700277520814061\n",
      "Epoch 15/50, Training Loss = 0.614133902978477, Training accuracy = 0.700277520814061\n",
      "Epoch 16/50, Training Loss = 0.6140787456073976, Training accuracy = 0.700277520814061\n",
      "Epoch 17/50, Training Loss = 0.6140312611967763, Training accuracy = 0.700277520814061\n",
      "Epoch 18/50, Training Loss = 0.6139624475602613, Training accuracy = 0.700277520814061\n",
      "Epoch 19/50, Training Loss = 0.613920172288606, Training accuracy = 0.700277520814061\n",
      "Epoch 20/50, Training Loss = 0.6138603025633712, Training accuracy = 0.700277520814061\n",
      "Epoch 21/50, Training Loss = 0.6138621328398348, Training accuracy = 0.700277520814061\n",
      "Epoch 22/50, Training Loss = 0.6138995328354728, Training accuracy = 0.700277520814061\n",
      "Epoch 23/50, Training Loss = 0.6138995326536407, Training accuracy = 0.700277520814061\n",
      "Epoch 24/50, Training Loss = 0.6138995326530845, Training accuracy = 0.700277520814061\n",
      "Epoch 25/50, Training Loss = 0.6138995326525283, Training accuracy = 0.700277520814061\n",
      "Epoch 26/50, Training Loss = 0.613899532651972, Training accuracy = 0.700277520814061\n",
      "Epoch 27/50, Training Loss = 0.613899532651416, Training accuracy = 0.700277520814061\n",
      "Epoch 28/50, Training Loss = 0.6138995326508595, Training accuracy = 0.700277520814061\n",
      "Epoch 29/50, Training Loss = 0.6138995326503035, Training accuracy = 0.700277520814061\n"
     ]
    }
   ],
   "source": [
    "import pandas as pd\n",
    "from Net import *\n",
    "dataset = pd.read_csv(\"data/filtered_sider.csv\")\n",
    "#task = \"Hepatobiliary disorders\"\n",
    "task = \"Metabolism and nutrition disorders\"\n",
    "network = [Sum_pooling(8),\n",
    "           GIN(8),\n",
    "           Sigmoid(),\n",
    "           GIN(8),\n",
    "           Sigmoid(),\n",
    "           GIN(8),\n",
    "           Sigmoid(),\n",
    "           GIN(8),\n",
    "           Sigmoid(),\n",
    "           GIN(8),\n",
    "           Sigmoid(),\n",
    "           GlobalMeanPooling(),\n",
    "           Dense(8,100),\n",
    "           Convolution(100,3),\n",
    "           BatchNorm(eps = 1e-5, momentum = 0.5, batch_size = 32),\n",
    "           ReLU(),\n",
    "           Convolution(98,3),\n",
    "           BatchNorm(eps = 1e-5, momentum = 0.5, batch_size = 32),\n",
    "           ReLU(),\n",
    "           Convolution(96,3),\n",
    "           BatchNorm(eps = 1e-5, momentum = 0.5, batch_size = 32),\n",
    "           ReLU(),\n",
    "           Dense(94,1),\n",
    "           Sigmoid()           \n",
    "]\n",
    "\n",
    "\n",
    "MBGD(network, binary_cross_entropy, binary_cross_entropy_prime, dataset, task, epochs = 50,\n",
    "       learning_rate = 0.05, batch_size = 32, verbose = True)"
   ]
  }
 ],
 "metadata": {
  "kernelspec": {
   "display_name": "Python 3 (ipykernel)",
   "language": "python",
   "name": "python3"
  },
  "language_info": {
   "codemirror_mode": {
    "name": "ipython",
    "version": 3
   },
   "file_extension": ".py",
   "mimetype": "text/x-python",
   "name": "python",
   "nbconvert_exporter": "python",
   "pygments_lexer": "ipython3",
   "version": "3.10.13"
  }
 },
 "nbformat": 4,
 "nbformat_minor": 5
}

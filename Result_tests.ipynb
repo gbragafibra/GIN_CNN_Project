{
 "cells": [
  {
   "cell_type": "code",
   "execution_count": null,
   "id": "12c31628-ac7e-416f-84d6-c212a5aa46c2",
   "metadata": {},
   "outputs": [
    {
     "name": "stderr",
     "output_type": "stream",
     "text": [
      "[09:43:08] WARNING: not removing hydrogen atom without neighbors\n",
      "[09:43:08] WARNING: not removing hydrogen atom without neighbors\n",
      "[09:43:08] WARNING: not removing hydrogen atom without neighbors\n",
      "[09:43:08] WARNING: not removing hydrogen atom without neighbors\n",
      "[09:43:08] WARNING: not removing hydrogen atom without neighbors\n",
      "[09:43:08] WARNING: not removing hydrogen atom without neighbors\n",
      "[09:43:08] WARNING: not removing hydrogen atom without neighbors\n",
      "[09:43:08] WARNING: not removing hydrogen atom without neighbors\n",
      "[09:43:08] WARNING: not removing hydrogen atom without neighbors\n"
     ]
    },
    {
     "name": "stdout",
     "output_type": "stream",
     "text": [
      "Epoch 1/50, Training Loss = 0.6611220286491184, Training accuracy = 0.6638477801268499\n",
      "Epoch 2/50, Training Loss = 0.6168055575707357, Training accuracy = 0.7019027484143763\n",
      "Epoch 3/50, Training Loss = 0.6171593950907875, Training accuracy = 0.7019027484143763\n",
      "Epoch 4/50, Training Loss = 0.617128051544372, Training accuracy = 0.7019027484143763\n"
     ]
    }
   ],
   "source": [
    "import pandas as pd\n",
    "from Net import *\n",
    "dataset = pd.read_csv(\"data/filtered_sider.csv\")\n",
    "#task = \"Hepatobiliary disorders\"\n",
    "task = \"Metabolism and nutrition disorders\"\n",
    "#task = \"Pregnancy puerperium and perinatal conditions\"\n",
    "#task = \"Renal and urinary disorders\"\n",
    "#task = \"Injury poisoning and procedural complications\"\n",
    "#task = \"Product issues\"\n",
    "#task = \"Reproductive system and breast disorders\"\n",
    "network = [Sum_pooling(8),\n",
    "           GIN(8),\n",
    "           Sigmoid(),\n",
    "           GIN(8),\n",
    "           Sigmoid(),\n",
    "           GIN(8),\n",
    "           Sigmoid(),\n",
    "           GIN(8),\n",
    "           Sigmoid(),\n",
    "           GIN(8),\n",
    "           Sigmoid(),\n",
    "           GlobalMeanPooling(),\n",
    "           Dense(8,100),\n",
    "           Convolution(100,3),\n",
    "           BatchNorm(eps = 1e-5, momentum = 0.8, batch_size = 32),\n",
    "           ReLU(),\n",
    "           Convolution(98,3),\n",
    "           BatchNorm(eps = 1e-5, momentum = 0.8, batch_size = 32),\n",
    "           ReLU(),\n",
    "           Convolution(96,3),\n",
    "           BatchNorm(eps = 1e-5, momentum = 0.8, batch_size = 32),\n",
    "           ReLU(),\n",
    "           Dense(94,1),\n",
    "           Sigmoid()           \n",
    "]\n",
    "\n",
    "\n",
    "MBGD(network, binary_cross_entropy, binary_cross_entropy_prime, dataset, task, epochs = 50,\n",
    "       learning_rate = 0.05, batch_size = 32, verbose = True)"
   ]
  }
 ],
 "metadata": {
  "kernelspec": {
   "display_name": "Python 3 (ipykernel)",
   "language": "python",
   "name": "python3"
  },
  "language_info": {
   "codemirror_mode": {
    "name": "ipython",
    "version": 3
   },
   "file_extension": ".py",
   "mimetype": "text/x-python",
   "name": "python",
   "nbconvert_exporter": "python",
   "pygments_lexer": "ipython3",
   "version": "3.10.13"
  }
 },
 "nbformat": 4,
 "nbformat_minor": 5
}

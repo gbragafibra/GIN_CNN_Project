{
 "cells": [
  {
   "cell_type": "code",
   "execution_count": 2,
   "id": "12c31628-ac7e-416f-84d6-c212a5aa46c2",
   "metadata": {},
   "outputs": [
    {
     "name": "stderr",
     "output_type": "stream",
     "text": [
      "[18:03:16] WARNING: not removing hydrogen atom without neighbors\n",
      "[18:03:16] WARNING: not removing hydrogen atom without neighbors\n",
      "[18:03:16] WARNING: not removing hydrogen atom without neighbors\n",
      "[18:03:16] WARNING: not removing hydrogen atom without neighbors\n",
      "[18:03:16] WARNING: not removing hydrogen atom without neighbors\n",
      "[18:03:16] WARNING: not removing hydrogen atom without neighbors\n",
      "[18:03:16] WARNING: not removing hydrogen atom without neighbors\n",
      "[18:03:17] WARNING: not removing hydrogen atom without neighbors\n",
      "[18:03:17] WARNING: not removing hydrogen atom without neighbors\n",
      "/home/fibra/Desktop/testing/Bioinf_Project/Net.py:486: RuntimeWarning: overflow encountered in exp\n",
      "  return tuple(1 / (1 + np.exp(-elem)) for elem in x)\n",
      "/home/fibra/Desktop/testing/Bioinf_Project/Net.py:489: RuntimeWarning: overflow encountered in exp\n",
      "  return 1/(1 + np.exp(-x))\n"
     ]
    },
    {
     "name": "stdout",
     "output_type": "stream",
     "text": [
      "Epoch 1/10, Training Loss = 0.6353914529612903, Training accuracy = 0.6901017576318224\n",
      "Epoch 2/10, Training Loss = 0.633149063546633, Training accuracy = 0.6901017576318224\n",
      "Epoch 3/10, Training Loss = 0.6334828448717486, Training accuracy = 0.6901017576318224\n",
      "Epoch 4/10, Training Loss = 0.6344432644602567, Training accuracy = 0.6901017576318224\n",
      "Epoch 5/10, Training Loss = 0.6356719756320015, Training accuracy = 0.6901017576318224\n",
      "Epoch 6/10, Training Loss = 0.6363605375643117, Training accuracy = 0.6901017576318224\n",
      "Epoch 7/10, Training Loss = 0.6372665808742854, Training accuracy = 0.6901017576318224\n",
      "Epoch 8/10, Training Loss = 0.6381910781895522, Training accuracy = 0.6901017576318224\n",
      "Epoch 9/10, Training Loss = 0.6391172530555627, Training accuracy = 0.6901017576318224\n",
      "Epoch 10/10, Training Loss = 0.6400757458891828, Training accuracy = 0.6901017576318224\n",
      "Test Loss: 0.6115612353270901, Test accuracy: 0.7185185185185186\n",
      "Evaluation Loss: 0.6301435179621704, Evaluation accuracy: 0.6838235294117647\n"
     ]
    }
   ],
   "source": [
    "import pandas as pd\n",
    "from Net import *\n",
    "dataset = pd.read_csv(\"data/filtered_sider.csv\")\n",
    "#task = \"Hepatobiliary disorders\"\n",
    "task = \"Metabolism and nutrition disorders\"\n",
    "network = [Sum_pooling(8),\n",
    "           GIN(8),\n",
    "           Sigmoid(),\n",
    "           GIN(8),\n",
    "           Sigmoid(),\n",
    "           GIN(8),\n",
    "           Sigmoid(),\n",
    "           GIN(8),\n",
    "           Sigmoid(),\n",
    "           GIN(8),\n",
    "           Sigmoid(),\n",
    "           GlobalMeanPooling(),\n",
    "           Dense(8,100),\n",
    "           Convolution(100,3),\n",
    "           BatchNorm(eps = 1e-5, momentum = 0.5, batch_size = 32),\n",
    "           ReLU(),\n",
    "           Convolution(98,3),\n",
    "           BatchNorm(eps = 1e-5, momentum = 0.5, batch_size = 32),\n",
    "           ReLU(),\n",
    "           Convolution(96,3),\n",
    "           BatchNorm(eps = 1e-5, momentum = 0.5, batch_size = 32),\n",
    "           ReLU(),\n",
    "           Dense(94,1),\n",
    "           Sigmoid()           \n",
    "]\n",
    "\n",
    "\n",
    "SGD(network, binary_cross_entropy, binary_cross_entropy_prime, dataset, task, epochs = 10,\n",
    "       learning_rate = 0.1, batch_size = 32, verbose = True)"
   ]
  }
 ],
 "metadata": {
  "kernelspec": {
   "display_name": "Python 3 (ipykernel)",
   "language": "python",
   "name": "python3"
  },
  "language_info": {
   "codemirror_mode": {
    "name": "ipython",
    "version": 3
   },
   "file_extension": ".py",
   "mimetype": "text/x-python",
   "name": "python",
   "nbconvert_exporter": "python",
   "pygments_lexer": "ipython3",
   "version": "3.10.13"
  }
 },
 "nbformat": 4,
 "nbformat_minor": 5
}

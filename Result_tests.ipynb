{
 "cells": [
  {
   "cell_type": "code",
   "execution_count": 8,
   "id": "12c31628-ac7e-416f-84d6-c212a5aa46c2",
   "metadata": {},
   "outputs": [
    {
     "name": "stderr",
     "output_type": "stream",
     "text": [
      "[15:05:53] WARNING: not removing hydrogen atom without neighbors\n",
      "[15:05:53] WARNING: not removing hydrogen atom without neighbors\n",
      "[15:05:53] WARNING: not removing hydrogen atom without neighbors\n",
      "[15:05:53] WARNING: not removing hydrogen atom without neighbors\n",
      "[15:05:54] WARNING: not removing hydrogen atom without neighbors\n",
      "[15:05:54] WARNING: not removing hydrogen atom without neighbors\n",
      "[15:05:54] WARNING: not removing hydrogen atom without neighbors\n",
      "[15:05:54] WARNING: not removing hydrogen atom without neighbors\n",
      "[15:05:54] WARNING: not removing hydrogen atom without neighbors\n"
     ]
    },
    {
     "name": "stdout",
     "output_type": "stream",
     "text": [
      "Epoch 1/10, Training Loss = 0.20646181708418834, Training accuracy = 0.7114164904862579\n",
      "Epoch 2/10, Training Loss = 0.20577763239549618, Training accuracy = 0.7114164904862579\n",
      "Epoch 3/10, Training Loss = 0.20577599224652038, Training accuracy = 0.7114164904862579\n",
      "Epoch 4/10, Training Loss = 0.2057731723754158, Training accuracy = 0.7114164904862579\n",
      "Epoch 5/10, Training Loss = 0.20577025050822279, Training accuracy = 0.7114164904862579\n",
      "Epoch 6/10, Training Loss = 0.20576725130598567, Training accuracy = 0.7114164904862579\n",
      "Epoch 7/10, Training Loss = 0.20576440249304287, Training accuracy = 0.7114164904862579\n",
      "Epoch 8/10, Training Loss = 0.20576164023606797, Training accuracy = 0.7114164904862579\n",
      "Epoch 9/10, Training Loss = 0.2057586756239573, Training accuracy = 0.7114164904862579\n",
      "Epoch 10/10, Training Loss = 0.20575572877492956, Training accuracy = 0.7114164904862579\n",
      "Test Loss: 0.2158788534278554, Test accuracy: 0.6847290640394089\n",
      "Evaluation Loss: 0.20687317340561617, Evaluation accuracy: 0.7093596059113301\n"
     ]
    }
   ],
   "source": [
    "import pandas as pd\n",
    "from Net import *\n",
    "dataset = pd.read_csv(\"data/filtered_sider.csv\")\n",
    "#task = \"Hepatobiliary disorders\"\n",
    "task = \"Metabolism and nutrition disorders\"\n",
    "#task = \"Pregnancy puerperium and perinatal conditions\"\n",
    "#task = \"Renal and urinary disorders\"\n",
    "#task = \"Injury poisoning and procedural complications\"\n",
    "#task = \"Product issues\"\n",
    "#task = \"Reproductive system and breast disorders\"\n",
    "network = [Sum_pooling(8),\n",
    "           GIN(8),\n",
    "           Sigmoid(),\n",
    "           GIN(8),\n",
    "           Sigmoid(),\n",
    "           GIN(8),\n",
    "           Sigmoid(),\n",
    "           GIN(8),\n",
    "           Sigmoid(),\n",
    "           GIN(8),\n",
    "           Sigmoid(),\n",
    "           GlobalMeanPooling(),\n",
    "           Dense(8,100),\n",
    "           Convolution(100,3),\n",
    "           BatchNorm(eps = 1e-5, momentum = 0.5, batch_size = 32),\n",
    "           ReLU(),\n",
    "           Convolution(98,3),\n",
    "           BatchNorm(eps = 1e-5, momentum = 0.5, batch_size = 32),\n",
    "           ReLU(),\n",
    "           Convolution(96,3),\n",
    "           BatchNorm(eps = 1e-5, momentum = 0.5, batch_size = 32),\n",
    "           ReLU(),\n",
    "           Dense(94,1),\n",
    "           Sigmoid()           \n",
    "]\n",
    "\n",
    "\n",
    "MBGD(network, mse, mse_prime, dataset, task, epochs = 10,\n",
    "       learning_rate = 0.05, batch_size = 32, verbose = True)"
   ]
  }
 ],
 "metadata": {
  "kernelspec": {
   "display_name": "Python 3 (ipykernel)",
   "language": "python",
   "name": "python3"
  },
  "language_info": {
   "codemirror_mode": {
    "name": "ipython",
    "version": 3
   },
   "file_extension": ".py",
   "mimetype": "text/x-python",
   "name": "python",
   "nbconvert_exporter": "python",
   "pygments_lexer": "ipython3",
   "version": "3.10.13"
  }
 },
 "nbformat": 4,
 "nbformat_minor": 5
}

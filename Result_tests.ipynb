{
 "cells": [
  {
   "cell_type": "code",
   "execution_count": 1,
   "id": "12c31628-ac7e-416f-84d6-c212a5aa46c2",
   "metadata": {},
   "outputs": [
    {
     "name": "stderr",
     "output_type": "stream",
     "text": [
      "[13:51:42] WARNING: not removing hydrogen atom without neighbors\n",
      "[13:51:42] WARNING: not removing hydrogen atom without neighbors\n",
      "[13:51:42] WARNING: not removing hydrogen atom without neighbors\n",
      "[13:51:42] WARNING: not removing hydrogen atom without neighbors\n",
      "[13:51:42] WARNING: not removing hydrogen atom without neighbors\n",
      "[13:51:42] WARNING: not removing hydrogen atom without neighbors\n",
      "[13:51:42] WARNING: not removing hydrogen atom without neighbors\n",
      "[13:51:42] WARNING: not removing hydrogen atom without neighbors\n",
      "[13:51:42] WARNING: not removing hydrogen atom without neighbors\n"
     ]
    },
    {
     "name": "stdout",
     "output_type": "stream",
     "text": [
      "[[-0.33686079]]\n",
      "[[0.11144475]\n",
      " [0.00952634]]\n",
      "[[ 0.         -0.02191405  0.08637065 -0.03190331]]\n",
      "[[0.         0.         0.0287762  0.10316411 0.14536662 0.        ]]\n",
      "[[ 0.          0.          0.00787182 -0.01497681 -0.11168112 -0.20814626\n",
      "   0.01353632  0.        ]]\n"
     ]
    },
    {
     "ename": "ValueError",
     "evalue": "setting an array element with a sequence. The requested array has an inhomogeneous shape after 2 dimensions. The detected shape was (2, 8) + inhomogeneous part.",
     "output_type": "error",
     "traceback": [
      "\u001b[0;31m---------------------------------------------------------------------------\u001b[0m",
      "\u001b[0;31mValueError\u001b[0m                                Traceback (most recent call last)",
      "Cell \u001b[0;32mIn[1], line 33\u001b[0m\n\u001b[1;32m      5\u001b[0m network \u001b[38;5;241m=\u001b[39m [Mean_pooling(\u001b[38;5;241m8\u001b[39m),\n\u001b[1;32m      6\u001b[0m            GIN(\u001b[38;5;241m8\u001b[39m),\n\u001b[1;32m      7\u001b[0m            Sigmoid(),\n\u001b[0;32m   (...)\u001b[0m\n\u001b[1;32m     26\u001b[0m            Sigmoid()           \n\u001b[1;32m     27\u001b[0m ]\n\u001b[1;32m     28\u001b[0m \u001b[38;5;66;03m# Need to solve the convolution layer problem; Solved perhaps (?)\u001b[39;00m\n\u001b[1;32m     29\u001b[0m \u001b[38;5;66;03m# Need to pack H and A into a tuple, before the layers GIN, unpack\u001b[39;00m\n\u001b[1;32m     30\u001b[0m \u001b[38;5;66;03m# them, and do forward, and then pack them again, when returning output\u001b[39;00m\n\u001b[1;32m     31\u001b[0m \u001b[38;5;66;03m# of forward. Perhaps the same thing for backward.\u001b[39;00m\n\u001b[1;32m     32\u001b[0m \u001b[38;5;66;03m# Also do the same thing for forward of GlobalMeanPooling\u001b[39;00m\n\u001b[0;32m---> 33\u001b[0m \u001b[43mSGD\u001b[49m\u001b[43m(\u001b[49m\u001b[43mnetwork\u001b[49m\u001b[43m,\u001b[49m\u001b[43m \u001b[49m\u001b[43mbinary_cross_entropy\u001b[49m\u001b[43m,\u001b[49m\u001b[43m \u001b[49m\u001b[43mbinary_cross_entropy_prime\u001b[49m\u001b[43m,\u001b[49m\u001b[43m \u001b[49m\u001b[43mdataset\u001b[49m\u001b[43m,\u001b[49m\u001b[43m \u001b[49m\u001b[43mtask\u001b[49m\u001b[43m,\u001b[49m\u001b[43m \u001b[49m\u001b[43mepochs\u001b[49m\u001b[43m \u001b[49m\u001b[38;5;241;43m=\u001b[39;49m\u001b[43m \u001b[49m\u001b[38;5;241;43m10\u001b[39;49m\u001b[43m,\u001b[49m\n\u001b[1;32m     34\u001b[0m \u001b[43m       \u001b[49m\u001b[43mlearning_rate\u001b[49m\u001b[43m \u001b[49m\u001b[38;5;241;43m=\u001b[39;49m\u001b[43m \u001b[49m\u001b[38;5;241;43m0.1\u001b[39;49m\u001b[43m,\u001b[49m\u001b[43m \u001b[49m\u001b[43mbatch_size\u001b[49m\u001b[43m \u001b[49m\u001b[38;5;241;43m=\u001b[39;49m\u001b[43m \u001b[49m\u001b[38;5;241;43m10\u001b[39;49m\u001b[43m,\u001b[49m\u001b[43m \u001b[49m\u001b[43mverbose\u001b[49m\u001b[43m \u001b[49m\u001b[38;5;241;43m=\u001b[39;49m\u001b[43m \u001b[49m\u001b[38;5;28;43;01mTrue\u001b[39;49;00m\u001b[43m)\u001b[49m\n",
      "File \u001b[0;32m~/Desktop/testing/Bioinf_Project/Net.py:411\u001b[0m, in \u001b[0;36mSGD\u001b[0;34m(network, loss, loss_prime, dataset, task, epochs, learning_rate, batch_size, verbose)\u001b[0m\n\u001b[1;32m    409\u001b[0m         batch_grad \u001b[38;5;241m=\u001b[39m loss_prime(y, output) \u001b[38;5;241m/\u001b[39m \u001b[38;5;28mlen\u001b[39m(x_batch)\n\u001b[1;32m    410\u001b[0m         \u001b[38;5;28;01mfor\u001b[39;00m layer \u001b[38;5;129;01min\u001b[39;00m \u001b[38;5;28mreversed\u001b[39m(network):\n\u001b[0;32m--> 411\u001b[0m             batch_grad \u001b[38;5;241m=\u001b[39m \u001b[43mlayer\u001b[49m\u001b[38;5;241;43m.\u001b[39;49m\u001b[43mbackward\u001b[49m\u001b[43m(\u001b[49m\u001b[43mbatch_grad\u001b[49m\u001b[43m,\u001b[49m\u001b[43m \u001b[49m\u001b[43mlearning_rate\u001b[49m\u001b[43m)\u001b[49m\n\u001b[1;32m    413\u001b[0m     train_loss \u001b[38;5;241m+\u001b[39m\u001b[38;5;241m=\u001b[39m batch_loss\n\u001b[1;32m    415\u001b[0m train_loss \u001b[38;5;241m/\u001b[39m\u001b[38;5;241m=\u001b[39m \u001b[38;5;28mlen\u001b[39m(train_features)\n",
      "File \u001b[0;32m~/Desktop/testing/Bioinf_Project/Net.py:40\u001b[0m, in \u001b[0;36mActivation.backward\u001b[0;34m(self, output_grad, learning_rate)\u001b[0m\n\u001b[1;32m     38\u001b[0m \u001b[38;5;28;01mdef\u001b[39;00m \u001b[38;5;21mbackward\u001b[39m(\u001b[38;5;28mself\u001b[39m, output_grad, learning_rate):\n\u001b[1;32m     39\u001b[0m \t\u001b[38;5;28mprint\u001b[39m(output_grad)\n\u001b[0;32m---> 40\u001b[0m \t\u001b[38;5;28;01mreturn\u001b[39;00m \u001b[43mnp\u001b[49m\u001b[38;5;241;43m.\u001b[39;49m\u001b[43mmultiply\u001b[49m\u001b[43m(\u001b[49m\u001b[43moutput_grad\u001b[49m\u001b[43m,\u001b[49m\u001b[43m \u001b[49m\u001b[38;5;28;43mself\u001b[39;49m\u001b[38;5;241;43m.\u001b[39;49m\u001b[43mactivation_prime\u001b[49m\u001b[43m(\u001b[49m\u001b[38;5;28;43mself\u001b[39;49m\u001b[38;5;241;43m.\u001b[39;49m\u001b[43minput\u001b[49m\u001b[43m)\u001b[49m\u001b[43m)\u001b[49m\n",
      "\u001b[0;31mValueError\u001b[0m: setting an array element with a sequence. The requested array has an inhomogeneous shape after 2 dimensions. The detected shape was (2, 8) + inhomogeneous part."
     ]
    }
   ],
   "source": [
    "import pandas as pd\n",
    "from Net import *\n",
    "dataset = pd.read_csv(\"data/filtered_sider.csv\")\n",
    "task = \"Hepatobiliary disorders\"\n",
    "network = [Mean_pooling(8),\n",
    "           GIN(8),\n",
    "           Sigmoid(),\n",
    "           GIN(8),\n",
    "           Sigmoid(),\n",
    "           GIN(8),\n",
    "           Sigmoid(),\n",
    "           GIN(8),\n",
    "           Sigmoid(),\n",
    "           GIN(8),\n",
    "           Sigmoid(),\n",
    "           Convolution((1,8),3,1),\n",
    "           BatchNorm(eps = 1e-5, momentum = 0.8, batch_size = 10),\n",
    "           ReLU(),\n",
    "           Convolution((1,6),3,1),\n",
    "           BatchNorm(eps = 1e-5, momentum = 0.8, batch_size = 10),\n",
    "           ReLU(),\n",
    "           Convolution((1,4),3,1),\n",
    "           BatchNorm(eps = 1e-5, momentum = 0.8, batch_size = 10),\n",
    "           ReLU(),\n",
    "           Dense(2,1),\n",
    "           Sigmoid()           \n",
    "]\n",
    "# Need to solve the convolution layer problem; Solved perhaps (?)\n",
    "# Need to pack H and A into a tuple, before the layers GIN, unpack\n",
    "# them, and do forward, and then pack them again, when returning output\n",
    "# of forward. Perhaps the same thing for backward.\n",
    "# Also do the same thing for forward of GlobalMeanPooling\n",
    "SGD(network, binary_cross_entropy, binary_cross_entropy_prime, dataset, task, epochs = 10,\n",
    "       learning_rate = 0.1, batch_size = 10, verbose = True)"
   ]
  }
 ],
 "metadata": {
  "kernelspec": {
   "display_name": "Python 3 (ipykernel)",
   "language": "python",
   "name": "python3"
  },
  "language_info": {
   "codemirror_mode": {
    "name": "ipython",
    "version": 3
   },
   "file_extension": ".py",
   "mimetype": "text/x-python",
   "name": "python",
   "nbconvert_exporter": "python",
   "pygments_lexer": "ipython3",
   "version": "3.10.13"
  }
 },
 "nbformat": 4,
 "nbformat_minor": 5
}
